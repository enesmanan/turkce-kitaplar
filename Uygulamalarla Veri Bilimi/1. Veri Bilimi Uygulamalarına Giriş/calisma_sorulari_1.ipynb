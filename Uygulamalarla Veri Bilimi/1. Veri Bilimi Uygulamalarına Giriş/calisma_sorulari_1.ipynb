{
 "cells": [
  {
   "cell_type": "markdown",
   "metadata": {},
   "source": [
    "# 1. Bölüm Çalışma Soruları Cevapları"
   ]
  },
  {
   "cell_type": "markdown",
   "metadata": {},
   "source": [
    "## 1. Soru: Regresyon mu, sınıflandırma mı?\n",
    "\n",
    "Karşımıza gelen bir problemin regresyon mu yoksa sınıflandırma mı olduğunu anlamak için hedef değişkenin yapısını inceleriz. Eğer bağımlı değişkenimiz kategorik verilerden oluşuyorsa sınıflandırma, sürekli verilerden oluşuyosa regresyon problemi olduğunu kabaca anlayabiliriz.\n",
    "\n",
    "**Kategorik Veriler:**  \n",
    "+ **İkili sınıflandırma** $\\to$ Kadın/Erkek, Evli/Bekar, Kedi/Köpek vb.\n",
    "+ **Çok sınıflı sınıflandırma** $\\to$ Araba markaları, renkler vb.\n",
    "\n",
    "**Sürekli Veriler:**\n",
    "+ Sıcaklık, yaş, maaş, bir şeyin fiyatı vb.\n",
    "\n",
    "*Burada hangisinin seçileceği iş probleminin tanımına ve eldeki veriye göre değişkenlik gösterebilir.*"
   ]
  },
  {
   "cell_type": "markdown",
   "metadata": {},
   "source": [
    "<hr style='border: 0.5px solid gray; margin: 25px 0;'>"
   ]
  },
  {
   "cell_type": "markdown",
   "metadata": {},
   "source": [
    "## 2. Soru: Dengesiz bir veri kümesine karşı yaklaşımınız nasıl olur?\n",
    "\n",
    "**Dengesiz veri kümesi**, sınıflar arası farkın bariz bir şekilde açık olduğu veri kümesidir. Yani, bir gözlem biriminde 100 varken öteki gözlem biriminden 10000 olması gibi. Bir veri kümesindeki dengesizliğin kesin bir tanımı yoktur.\n",
    "\n",
    "Dengesizliği gidermek için yöntemler:\n",
    "1. **Azınlıkta olan sınıf için daha fazla veri toplamak:** Bu yöntem, veriyi biz topladıysak kullanılabilir.\n",
    "2. **Çoğunlukta olan sınıfın örneklerini azaltmak:** Eğer bunu uygularsak çoğunlukta olan sınıf için veri kaybına neden olabilriz. Bunun sonucunda algoritma yeterince öğrenemeyebilir.\n",
    "3. **Azınlık sınıfın örneklerini kopyalamak:** Aynı veriler tekrarlanacağız için overfitting sorununa neden olabilir.\n",
    "4. **Sentetik örnekleme yöntemleri ile sınıflar arası dengesizliği azaltmak:** SMOTE gibi bir yöntem ile azınlık sınıfın örnekleri sentetik olarak artırılabilir."
   ]
  },
  {
   "cell_type": "markdown",
   "metadata": {},
   "source": [
    "<hr style='border: 0.5px solid gray; margin: 25px 0;'>"
   ]
  },
  {
   "cell_type": "markdown",
   "metadata": {},
   "source": [
    "## 3. Soru: Tasarlanan bir algoritma ve oluşturulan model hangi aralıklarla güncellenmelidir?\n",
    "\n",
    "Bu sorunun kesin bir cevabı yoktur, iş problemine ve veri kümesindeki performans kriterlerine göre değişkenlik gösterebilir.\n",
    "\n",
    "Bazı genel prensipler:\n",
    "+ **Veri setinde önemli bir değişiklik olduğunda** \n",
    "+ **Modelin performansında önemli bir değişiklik olduğunda**\n",
    "+ **Yeni çıkan teknolojik gelişmeler olduğunda**\n",
    "\n",
    "Bu şartlar sağlandığında algoritma ve modelde güncellemeler yapmak gerekebilir.\n",
    "\n",
    "*Bu işin bir standartı yoktur. Aslolan, algoritma ve modelin düzenli olarak gözlemlenmesi, performanslarının takip edilmesi, değişen gereksinimlere ve koşullara göre güncellenmesidir.*\n"
   ]
  },
  {
   "cell_type": "markdown",
   "metadata": {},
   "source": [
    "<hr style='border: 0.5px solid gray; margin: 25px 0;'>"
   ]
  },
  {
   "cell_type": "markdown",
   "metadata": {},
   "source": [
    "## 4. Soru: 500 sütun ve 1 milyon satırlık satırlık bir veri seti üzerinde sınıflandırma yaptığımızı düşünelim. Çalıştığımız bilgisayarda da bellek kısıtları olduğunu düşünelim. Hesaplama bellek yetersizliğinden dolayı aşırı zaman alacaktır, hesaplama zamanını kısaltmak için verinin boyutunu hangi yaklaşımlar ile küçültebiliriz?\n",
    "\n",
    "1. **Özellik Seçimi (Feature Selection):** Her özelliğin hedef değişkeni açıklamaktaki başarısı bir olmadığı için hedef değişkeni en iyi açıklayan özellikler seçilerek hesaplama süresi azaltılabilir.\n",
    "2. **Özellik Çıkarımı (Feature Extraction):** Var olan özelliklerden yeni özellikler oluşturarak verinin boyutunu küçültmek için kullanılabilcek bir yöntemdir.\n",
    "3. **Boyut İndirgeme:** Veri setindeki sütunlarının sayısını azaltmak için kullanılır. PCA (Temel Bileşen Analizi) en basit ve bilinen yöntemlerden biridir.\n",
    "4. **Örneklem Seçimi:** Veri kümesinden rastgele olarak örneklemeler alınabilir. Bu yöntem sonucunda bilgi kaybı oluşabilir. Bilgi kaybını en aza indirgemek için daha fazla örneklem alarak bunların ortak sonucuna bakılabilir. "
   ]
  },
  {
   "cell_type": "markdown",
   "metadata": {},
   "source": [
    "<hr style='border: 0.5px solid gray; margin: 25px 0;'>"
   ]
  },
  {
   "cell_type": "markdown",
   "metadata": {},
   "source": [
    "## 5. Soru: Modelde düşük bias ve yüksek varyans varsa bu durumu aşmak için hangi algoritma kullanılmalıdır?\n",
    "\n",
    "Modelde düşük bias ve yüksek varyans gözleniyorsa model overfitting (aşırı uyum) problemi yaşıyordur. Bu durumda modelin eğitim hatası düşük olmasına rağmen test hatası yüksek olabilir.\n",
    "\n",
    "Modelin genelleme yeteneğini korumak için aşağıdaki yöntemler kullanılabilir:\n",
    "+ **Düzenlileştirme (Regularization):** Düzenlileştireme ile modelin karmaşıklığını düşürerek overfitting sorunundan kurtulmaya çalışırız. Modelin ağırlıklarına (weights) bir ceza terimi ekleyerek modelin eğitim verisinde aşırı uymasını engeller.\n",
    "+ **Topluluk Modelleri (Ensemble Learning):** Bu modeller birden fazla modeli birleştirerek tek bir modelden daha iyi performans vermeyi amaçlarlar. Ensemble yöntemler, varyansı azaltarak modelin performansını artırabilir. Bunlar arasında Bagging, Boosting ve Random Forest gibi yöntemler yer alır."
   ]
  },
  {
   "cell_type": "markdown",
   "metadata": {},
   "source": [
    "<hr style='border: 0.5px solid gray; margin: 25px 0;'>"
   ]
  }
 ],
 "metadata": {
  "kernelspec": {
   "display_name": "Python 3 (ipykernel)",
   "language": "python",
   "name": "python3"
  },
  "language_info": {
   "codemirror_mode": {
    "name": "ipython",
    "version": 3
   },
   "file_extension": ".py",
   "mimetype": "text/x-python",
   "name": "python",
   "nbconvert_exporter": "python",
   "pygments_lexer": "ipython3",
   "version": "3.9.16"
  }
 },
 "nbformat": 4,
 "nbformat_minor": 4
}
