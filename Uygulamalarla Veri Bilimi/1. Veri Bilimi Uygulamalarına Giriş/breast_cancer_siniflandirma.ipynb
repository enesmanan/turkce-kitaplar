{
 "cells": [
  {
   "cell_type": "code",
   "execution_count": 1,
   "id": "07e272da-8d6d-4146-9e3e-b95aa8645ea7",
   "metadata": {},
   "outputs": [],
   "source": [
    "import numpy as np\n",
    "import pandas as pd\n",
    "import seaborn as sns\n",
    "import matplotlib.pyplot as plt\n",
    "\n",
    "import warnings\n",
    "warnings.filterwarnings('ignore')\n",
    "\n",
    "from sklearn.datasets import load_breast_cancer\n",
    "\n",
    "from tabulate import tabulate\n",
    "from imblearn.over_sampling import SMOTE\n",
    "from sklearn.preprocessing import StandardScaler\n",
    "from sklearn.model_selection import train_test_split\n",
    "from scipy.stats import skew, kurtosis, normaltest, shapiro\n",
    "\n",
    "# modellerin basarisini degerlendirmek icin\n",
    "from sklearn.metrics import accuracy_score\n",
    "from sklearn.metrics import confusion_matrix\n",
    "from sklearn.metrics import classification_report\n",
    "from sklearn.model_selection import cross_val_score\n",
    "\n",
    "# models\n",
    "import catboost as cb\n",
    "import xgboost as xgb\n",
    "import lightgbm as lgb\n",
    "from sklearn.svm import SVC\n",
    "from keras.layers import Dense\n",
    "from keras.models import Sequential\n",
    "from sklearn.naive_bayes import GaussianNB\n",
    "from sklearn.tree import DecisionTreeClassifier\n",
    "from sklearn.linear_model import LogisticRegression\n",
    "from sklearn.neighbors import KNeighborsClassifier\n",
    "from sklearn.ensemble import RandomForestClassifier, AdaBoostClassifier, GradientBoostingClassifier"
   ]
  },
  {
   "cell_type": "code",
   "execution_count": 2,
   "id": "c2b91e28-91b1-4ae0-8215-c94e36fff2d5",
   "metadata": {},
   "outputs": [],
   "source": [
    "cancer = load_breast_cancer()\n",
    "\n",
    "df = pd.DataFrame(cancer.data, columns=cancer.feature_names)\n",
    "df['target'] = pd.Series(cancer.target)"
   ]
  },
  {
   "cell_type": "code",
   "execution_count": 3,
   "id": "a39edc1a-31d4-4e4c-b854-944aa9546ba4",
   "metadata": {},
   "outputs": [
    {
     "data": {
      "text/html": [
       "<div>\n",
       "<style scoped>\n",
       "    .dataframe tbody tr th:only-of-type {\n",
       "        vertical-align: middle;\n",
       "    }\n",
       "\n",
       "    .dataframe tbody tr th {\n",
       "        vertical-align: top;\n",
       "    }\n",
       "\n",
       "    .dataframe thead th {\n",
       "        text-align: right;\n",
       "    }\n",
       "</style>\n",
       "<table border=\"1\" class=\"dataframe\">\n",
       "  <thead>\n",
       "    <tr style=\"text-align: right;\">\n",
       "      <th></th>\n",
       "      <th>mean radius</th>\n",
       "      <th>mean texture</th>\n",
       "      <th>mean perimeter</th>\n",
       "      <th>mean area</th>\n",
       "      <th>mean smoothness</th>\n",
       "      <th>mean compactness</th>\n",
       "      <th>mean concavity</th>\n",
       "      <th>mean concave points</th>\n",
       "      <th>mean symmetry</th>\n",
       "      <th>mean fractal dimension</th>\n",
       "      <th>...</th>\n",
       "      <th>worst texture</th>\n",
       "      <th>worst perimeter</th>\n",
       "      <th>worst area</th>\n",
       "      <th>worst smoothness</th>\n",
       "      <th>worst compactness</th>\n",
       "      <th>worst concavity</th>\n",
       "      <th>worst concave points</th>\n",
       "      <th>worst symmetry</th>\n",
       "      <th>worst fractal dimension</th>\n",
       "      <th>target</th>\n",
       "    </tr>\n",
       "  </thead>\n",
       "  <tbody>\n",
       "    <tr>\n",
       "      <th>0</th>\n",
       "      <td>17.99</td>\n",
       "      <td>10.38</td>\n",
       "      <td>122.80</td>\n",
       "      <td>1001.0</td>\n",
       "      <td>0.11840</td>\n",
       "      <td>0.27760</td>\n",
       "      <td>0.3001</td>\n",
       "      <td>0.14710</td>\n",
       "      <td>0.2419</td>\n",
       "      <td>0.07871</td>\n",
       "      <td>...</td>\n",
       "      <td>17.33</td>\n",
       "      <td>184.60</td>\n",
       "      <td>2019.0</td>\n",
       "      <td>0.1622</td>\n",
       "      <td>0.6656</td>\n",
       "      <td>0.7119</td>\n",
       "      <td>0.2654</td>\n",
       "      <td>0.4601</td>\n",
       "      <td>0.11890</td>\n",
       "      <td>0</td>\n",
       "    </tr>\n",
       "    <tr>\n",
       "      <th>1</th>\n",
       "      <td>20.57</td>\n",
       "      <td>17.77</td>\n",
       "      <td>132.90</td>\n",
       "      <td>1326.0</td>\n",
       "      <td>0.08474</td>\n",
       "      <td>0.07864</td>\n",
       "      <td>0.0869</td>\n",
       "      <td>0.07017</td>\n",
       "      <td>0.1812</td>\n",
       "      <td>0.05667</td>\n",
       "      <td>...</td>\n",
       "      <td>23.41</td>\n",
       "      <td>158.80</td>\n",
       "      <td>1956.0</td>\n",
       "      <td>0.1238</td>\n",
       "      <td>0.1866</td>\n",
       "      <td>0.2416</td>\n",
       "      <td>0.1860</td>\n",
       "      <td>0.2750</td>\n",
       "      <td>0.08902</td>\n",
       "      <td>0</td>\n",
       "    </tr>\n",
       "    <tr>\n",
       "      <th>2</th>\n",
       "      <td>19.69</td>\n",
       "      <td>21.25</td>\n",
       "      <td>130.00</td>\n",
       "      <td>1203.0</td>\n",
       "      <td>0.10960</td>\n",
       "      <td>0.15990</td>\n",
       "      <td>0.1974</td>\n",
       "      <td>0.12790</td>\n",
       "      <td>0.2069</td>\n",
       "      <td>0.05999</td>\n",
       "      <td>...</td>\n",
       "      <td>25.53</td>\n",
       "      <td>152.50</td>\n",
       "      <td>1709.0</td>\n",
       "      <td>0.1444</td>\n",
       "      <td>0.4245</td>\n",
       "      <td>0.4504</td>\n",
       "      <td>0.2430</td>\n",
       "      <td>0.3613</td>\n",
       "      <td>0.08758</td>\n",
       "      <td>0</td>\n",
       "    </tr>\n",
       "    <tr>\n",
       "      <th>3</th>\n",
       "      <td>11.42</td>\n",
       "      <td>20.38</td>\n",
       "      <td>77.58</td>\n",
       "      <td>386.1</td>\n",
       "      <td>0.14250</td>\n",
       "      <td>0.28390</td>\n",
       "      <td>0.2414</td>\n",
       "      <td>0.10520</td>\n",
       "      <td>0.2597</td>\n",
       "      <td>0.09744</td>\n",
       "      <td>...</td>\n",
       "      <td>26.50</td>\n",
       "      <td>98.87</td>\n",
       "      <td>567.7</td>\n",
       "      <td>0.2098</td>\n",
       "      <td>0.8663</td>\n",
       "      <td>0.6869</td>\n",
       "      <td>0.2575</td>\n",
       "      <td>0.6638</td>\n",
       "      <td>0.17300</td>\n",
       "      <td>0</td>\n",
       "    </tr>\n",
       "    <tr>\n",
       "      <th>4</th>\n",
       "      <td>20.29</td>\n",
       "      <td>14.34</td>\n",
       "      <td>135.10</td>\n",
       "      <td>1297.0</td>\n",
       "      <td>0.10030</td>\n",
       "      <td>0.13280</td>\n",
       "      <td>0.1980</td>\n",
       "      <td>0.10430</td>\n",
       "      <td>0.1809</td>\n",
       "      <td>0.05883</td>\n",
       "      <td>...</td>\n",
       "      <td>16.67</td>\n",
       "      <td>152.20</td>\n",
       "      <td>1575.0</td>\n",
       "      <td>0.1374</td>\n",
       "      <td>0.2050</td>\n",
       "      <td>0.4000</td>\n",
       "      <td>0.1625</td>\n",
       "      <td>0.2364</td>\n",
       "      <td>0.07678</td>\n",
       "      <td>0</td>\n",
       "    </tr>\n",
       "  </tbody>\n",
       "</table>\n",
       "<p>5 rows × 31 columns</p>\n",
       "</div>"
      ],
      "text/plain": [
       "   mean radius  mean texture  mean perimeter  mean area  mean smoothness  \\\n",
       "0        17.99         10.38          122.80     1001.0          0.11840   \n",
       "1        20.57         17.77          132.90     1326.0          0.08474   \n",
       "2        19.69         21.25          130.00     1203.0          0.10960   \n",
       "3        11.42         20.38           77.58      386.1          0.14250   \n",
       "4        20.29         14.34          135.10     1297.0          0.10030   \n",
       "\n",
       "   mean compactness  mean concavity  mean concave points  mean symmetry  \\\n",
       "0           0.27760          0.3001              0.14710         0.2419   \n",
       "1           0.07864          0.0869              0.07017         0.1812   \n",
       "2           0.15990          0.1974              0.12790         0.2069   \n",
       "3           0.28390          0.2414              0.10520         0.2597   \n",
       "4           0.13280          0.1980              0.10430         0.1809   \n",
       "\n",
       "   mean fractal dimension  ...  worst texture  worst perimeter  worst area  \\\n",
       "0                 0.07871  ...          17.33           184.60      2019.0   \n",
       "1                 0.05667  ...          23.41           158.80      1956.0   \n",
       "2                 0.05999  ...          25.53           152.50      1709.0   \n",
       "3                 0.09744  ...          26.50            98.87       567.7   \n",
       "4                 0.05883  ...          16.67           152.20      1575.0   \n",
       "\n",
       "   worst smoothness  worst compactness  worst concavity  worst concave points  \\\n",
       "0            0.1622             0.6656           0.7119                0.2654   \n",
       "1            0.1238             0.1866           0.2416                0.1860   \n",
       "2            0.1444             0.4245           0.4504                0.2430   \n",
       "3            0.2098             0.8663           0.6869                0.2575   \n",
       "4            0.1374             0.2050           0.4000                0.1625   \n",
       "\n",
       "   worst symmetry  worst fractal dimension  target  \n",
       "0          0.4601                  0.11890       0  \n",
       "1          0.2750                  0.08902       0  \n",
       "2          0.3613                  0.08758       0  \n",
       "3          0.6638                  0.17300       0  \n",
       "4          0.2364                  0.07678       0  \n",
       "\n",
       "[5 rows x 31 columns]"
      ]
     },
     "execution_count": 3,
     "metadata": {},
     "output_type": "execute_result"
    }
   ],
   "source": [
    "df.head()"
   ]
  },
  {
   "cell_type": "code",
   "execution_count": 4,
   "id": "f8982ff9-cf49-41ec-b456-e847e17a215a",
   "metadata": {},
   "outputs": [
    {
     "data": {
      "text/plain": [
       "(569, 31)"
      ]
     },
     "execution_count": 4,
     "metadata": {},
     "output_type": "execute_result"
    }
   ],
   "source": [
    "df.shape"
   ]
  },
  {
   "cell_type": "code",
   "execution_count": 5,
   "id": "84563c84-3fb4-4998-96b8-1061140c5787",
   "metadata": {},
   "outputs": [
    {
     "name": "stdout",
     "output_type": "stream",
     "text": [
      "<class 'pandas.core.frame.DataFrame'>\n",
      "RangeIndex: 569 entries, 0 to 568\n",
      "Data columns (total 31 columns):\n",
      " #   Column                   Non-Null Count  Dtype  \n",
      "---  ------                   --------------  -----  \n",
      " 0   mean radius              569 non-null    float64\n",
      " 1   mean texture             569 non-null    float64\n",
      " 2   mean perimeter           569 non-null    float64\n",
      " 3   mean area                569 non-null    float64\n",
      " 4   mean smoothness          569 non-null    float64\n",
      " 5   mean compactness         569 non-null    float64\n",
      " 6   mean concavity           569 non-null    float64\n",
      " 7   mean concave points      569 non-null    float64\n",
      " 8   mean symmetry            569 non-null    float64\n",
      " 9   mean fractal dimension   569 non-null    float64\n",
      " 10  radius error             569 non-null    float64\n",
      " 11  texture error            569 non-null    float64\n",
      " 12  perimeter error          569 non-null    float64\n",
      " 13  area error               569 non-null    float64\n",
      " 14  smoothness error         569 non-null    float64\n",
      " 15  compactness error        569 non-null    float64\n",
      " 16  concavity error          569 non-null    float64\n",
      " 17  concave points error     569 non-null    float64\n",
      " 18  symmetry error           569 non-null    float64\n",
      " 19  fractal dimension error  569 non-null    float64\n",
      " 20  worst radius             569 non-null    float64\n",
      " 21  worst texture            569 non-null    float64\n",
      " 22  worst perimeter          569 non-null    float64\n",
      " 23  worst area               569 non-null    float64\n",
      " 24  worst smoothness         569 non-null    float64\n",
      " 25  worst compactness        569 non-null    float64\n",
      " 26  worst concavity          569 non-null    float64\n",
      " 27  worst concave points     569 non-null    float64\n",
      " 28  worst symmetry           569 non-null    float64\n",
      " 29  worst fractal dimension  569 non-null    float64\n",
      " 30  target                   569 non-null    int32  \n",
      "dtypes: float64(30), int32(1)\n",
      "memory usage: 135.7 KB\n"
     ]
    }
   ],
   "source": [
    "df.info()"
   ]
  },
  {
   "cell_type": "code",
   "execution_count": 6,
   "id": "ba41d30d-39ff-4cde-9845-c9af29fb2679",
   "metadata": {},
   "outputs": [
    {
     "data": {
      "text/html": [
       "<div>\n",
       "<style scoped>\n",
       "    .dataframe tbody tr th:only-of-type {\n",
       "        vertical-align: middle;\n",
       "    }\n",
       "\n",
       "    .dataframe tbody tr th {\n",
       "        vertical-align: top;\n",
       "    }\n",
       "\n",
       "    .dataframe thead th {\n",
       "        text-align: right;\n",
       "    }\n",
       "</style>\n",
       "<table border=\"1\" class=\"dataframe\">\n",
       "  <thead>\n",
       "    <tr style=\"text-align: right;\">\n",
       "      <th></th>\n",
       "      <th>count</th>\n",
       "      <th>mean</th>\n",
       "      <th>std</th>\n",
       "      <th>min</th>\n",
       "      <th>25%</th>\n",
       "      <th>50%</th>\n",
       "      <th>75%</th>\n",
       "      <th>max</th>\n",
       "    </tr>\n",
       "  </thead>\n",
       "  <tbody>\n",
       "    <tr>\n",
       "      <th>mean radius</th>\n",
       "      <td>569.0</td>\n",
       "      <td>14.127292</td>\n",
       "      <td>3.524049</td>\n",
       "      <td>6.981000</td>\n",
       "      <td>11.700000</td>\n",
       "      <td>13.370000</td>\n",
       "      <td>15.780000</td>\n",
       "      <td>28.11000</td>\n",
       "    </tr>\n",
       "    <tr>\n",
       "      <th>mean texture</th>\n",
       "      <td>569.0</td>\n",
       "      <td>19.289649</td>\n",
       "      <td>4.301036</td>\n",
       "      <td>9.710000</td>\n",
       "      <td>16.170000</td>\n",
       "      <td>18.840000</td>\n",
       "      <td>21.800000</td>\n",
       "      <td>39.28000</td>\n",
       "    </tr>\n",
       "    <tr>\n",
       "      <th>mean perimeter</th>\n",
       "      <td>569.0</td>\n",
       "      <td>91.969033</td>\n",
       "      <td>24.298981</td>\n",
       "      <td>43.790000</td>\n",
       "      <td>75.170000</td>\n",
       "      <td>86.240000</td>\n",
       "      <td>104.100000</td>\n",
       "      <td>188.50000</td>\n",
       "    </tr>\n",
       "    <tr>\n",
       "      <th>mean area</th>\n",
       "      <td>569.0</td>\n",
       "      <td>654.889104</td>\n",
       "      <td>351.914129</td>\n",
       "      <td>143.500000</td>\n",
       "      <td>420.300000</td>\n",
       "      <td>551.100000</td>\n",
       "      <td>782.700000</td>\n",
       "      <td>2501.00000</td>\n",
       "    </tr>\n",
       "    <tr>\n",
       "      <th>mean smoothness</th>\n",
       "      <td>569.0</td>\n",
       "      <td>0.096360</td>\n",
       "      <td>0.014064</td>\n",
       "      <td>0.052630</td>\n",
       "      <td>0.086370</td>\n",
       "      <td>0.095870</td>\n",
       "      <td>0.105300</td>\n",
       "      <td>0.16340</td>\n",
       "    </tr>\n",
       "    <tr>\n",
       "      <th>mean compactness</th>\n",
       "      <td>569.0</td>\n",
       "      <td>0.104341</td>\n",
       "      <td>0.052813</td>\n",
       "      <td>0.019380</td>\n",
       "      <td>0.064920</td>\n",
       "      <td>0.092630</td>\n",
       "      <td>0.130400</td>\n",
       "      <td>0.34540</td>\n",
       "    </tr>\n",
       "    <tr>\n",
       "      <th>mean concavity</th>\n",
       "      <td>569.0</td>\n",
       "      <td>0.088799</td>\n",
       "      <td>0.079720</td>\n",
       "      <td>0.000000</td>\n",
       "      <td>0.029560</td>\n",
       "      <td>0.061540</td>\n",
       "      <td>0.130700</td>\n",
       "      <td>0.42680</td>\n",
       "    </tr>\n",
       "    <tr>\n",
       "      <th>mean concave points</th>\n",
       "      <td>569.0</td>\n",
       "      <td>0.048919</td>\n",
       "      <td>0.038803</td>\n",
       "      <td>0.000000</td>\n",
       "      <td>0.020310</td>\n",
       "      <td>0.033500</td>\n",
       "      <td>0.074000</td>\n",
       "      <td>0.20120</td>\n",
       "    </tr>\n",
       "    <tr>\n",
       "      <th>mean symmetry</th>\n",
       "      <td>569.0</td>\n",
       "      <td>0.181162</td>\n",
       "      <td>0.027414</td>\n",
       "      <td>0.106000</td>\n",
       "      <td>0.161900</td>\n",
       "      <td>0.179200</td>\n",
       "      <td>0.195700</td>\n",
       "      <td>0.30400</td>\n",
       "    </tr>\n",
       "    <tr>\n",
       "      <th>mean fractal dimension</th>\n",
       "      <td>569.0</td>\n",
       "      <td>0.062798</td>\n",
       "      <td>0.007060</td>\n",
       "      <td>0.049960</td>\n",
       "      <td>0.057700</td>\n",
       "      <td>0.061540</td>\n",
       "      <td>0.066120</td>\n",
       "      <td>0.09744</td>\n",
       "    </tr>\n",
       "    <tr>\n",
       "      <th>radius error</th>\n",
       "      <td>569.0</td>\n",
       "      <td>0.405172</td>\n",
       "      <td>0.277313</td>\n",
       "      <td>0.111500</td>\n",
       "      <td>0.232400</td>\n",
       "      <td>0.324200</td>\n",
       "      <td>0.478900</td>\n",
       "      <td>2.87300</td>\n",
       "    </tr>\n",
       "    <tr>\n",
       "      <th>texture error</th>\n",
       "      <td>569.0</td>\n",
       "      <td>1.216853</td>\n",
       "      <td>0.551648</td>\n",
       "      <td>0.360200</td>\n",
       "      <td>0.833900</td>\n",
       "      <td>1.108000</td>\n",
       "      <td>1.474000</td>\n",
       "      <td>4.88500</td>\n",
       "    </tr>\n",
       "    <tr>\n",
       "      <th>perimeter error</th>\n",
       "      <td>569.0</td>\n",
       "      <td>2.866059</td>\n",
       "      <td>2.021855</td>\n",
       "      <td>0.757000</td>\n",
       "      <td>1.606000</td>\n",
       "      <td>2.287000</td>\n",
       "      <td>3.357000</td>\n",
       "      <td>21.98000</td>\n",
       "    </tr>\n",
       "    <tr>\n",
       "      <th>area error</th>\n",
       "      <td>569.0</td>\n",
       "      <td>40.337079</td>\n",
       "      <td>45.491006</td>\n",
       "      <td>6.802000</td>\n",
       "      <td>17.850000</td>\n",
       "      <td>24.530000</td>\n",
       "      <td>45.190000</td>\n",
       "      <td>542.20000</td>\n",
       "    </tr>\n",
       "    <tr>\n",
       "      <th>smoothness error</th>\n",
       "      <td>569.0</td>\n",
       "      <td>0.007041</td>\n",
       "      <td>0.003003</td>\n",
       "      <td>0.001713</td>\n",
       "      <td>0.005169</td>\n",
       "      <td>0.006380</td>\n",
       "      <td>0.008146</td>\n",
       "      <td>0.03113</td>\n",
       "    </tr>\n",
       "    <tr>\n",
       "      <th>compactness error</th>\n",
       "      <td>569.0</td>\n",
       "      <td>0.025478</td>\n",
       "      <td>0.017908</td>\n",
       "      <td>0.002252</td>\n",
       "      <td>0.013080</td>\n",
       "      <td>0.020450</td>\n",
       "      <td>0.032450</td>\n",
       "      <td>0.13540</td>\n",
       "    </tr>\n",
       "    <tr>\n",
       "      <th>concavity error</th>\n",
       "      <td>569.0</td>\n",
       "      <td>0.031894</td>\n",
       "      <td>0.030186</td>\n",
       "      <td>0.000000</td>\n",
       "      <td>0.015090</td>\n",
       "      <td>0.025890</td>\n",
       "      <td>0.042050</td>\n",
       "      <td>0.39600</td>\n",
       "    </tr>\n",
       "    <tr>\n",
       "      <th>concave points error</th>\n",
       "      <td>569.0</td>\n",
       "      <td>0.011796</td>\n",
       "      <td>0.006170</td>\n",
       "      <td>0.000000</td>\n",
       "      <td>0.007638</td>\n",
       "      <td>0.010930</td>\n",
       "      <td>0.014710</td>\n",
       "      <td>0.05279</td>\n",
       "    </tr>\n",
       "    <tr>\n",
       "      <th>symmetry error</th>\n",
       "      <td>569.0</td>\n",
       "      <td>0.020542</td>\n",
       "      <td>0.008266</td>\n",
       "      <td>0.007882</td>\n",
       "      <td>0.015160</td>\n",
       "      <td>0.018730</td>\n",
       "      <td>0.023480</td>\n",
       "      <td>0.07895</td>\n",
       "    </tr>\n",
       "    <tr>\n",
       "      <th>fractal dimension error</th>\n",
       "      <td>569.0</td>\n",
       "      <td>0.003795</td>\n",
       "      <td>0.002646</td>\n",
       "      <td>0.000895</td>\n",
       "      <td>0.002248</td>\n",
       "      <td>0.003187</td>\n",
       "      <td>0.004558</td>\n",
       "      <td>0.02984</td>\n",
       "    </tr>\n",
       "    <tr>\n",
       "      <th>worst radius</th>\n",
       "      <td>569.0</td>\n",
       "      <td>16.269190</td>\n",
       "      <td>4.833242</td>\n",
       "      <td>7.930000</td>\n",
       "      <td>13.010000</td>\n",
       "      <td>14.970000</td>\n",
       "      <td>18.790000</td>\n",
       "      <td>36.04000</td>\n",
       "    </tr>\n",
       "    <tr>\n",
       "      <th>worst texture</th>\n",
       "      <td>569.0</td>\n",
       "      <td>25.677223</td>\n",
       "      <td>6.146258</td>\n",
       "      <td>12.020000</td>\n",
       "      <td>21.080000</td>\n",
       "      <td>25.410000</td>\n",
       "      <td>29.720000</td>\n",
       "      <td>49.54000</td>\n",
       "    </tr>\n",
       "    <tr>\n",
       "      <th>worst perimeter</th>\n",
       "      <td>569.0</td>\n",
       "      <td>107.261213</td>\n",
       "      <td>33.602542</td>\n",
       "      <td>50.410000</td>\n",
       "      <td>84.110000</td>\n",
       "      <td>97.660000</td>\n",
       "      <td>125.400000</td>\n",
       "      <td>251.20000</td>\n",
       "    </tr>\n",
       "    <tr>\n",
       "      <th>worst area</th>\n",
       "      <td>569.0</td>\n",
       "      <td>880.583128</td>\n",
       "      <td>569.356993</td>\n",
       "      <td>185.200000</td>\n",
       "      <td>515.300000</td>\n",
       "      <td>686.500000</td>\n",
       "      <td>1084.000000</td>\n",
       "      <td>4254.00000</td>\n",
       "    </tr>\n",
       "    <tr>\n",
       "      <th>worst smoothness</th>\n",
       "      <td>569.0</td>\n",
       "      <td>0.132369</td>\n",
       "      <td>0.022832</td>\n",
       "      <td>0.071170</td>\n",
       "      <td>0.116600</td>\n",
       "      <td>0.131300</td>\n",
       "      <td>0.146000</td>\n",
       "      <td>0.22260</td>\n",
       "    </tr>\n",
       "    <tr>\n",
       "      <th>worst compactness</th>\n",
       "      <td>569.0</td>\n",
       "      <td>0.254265</td>\n",
       "      <td>0.157336</td>\n",
       "      <td>0.027290</td>\n",
       "      <td>0.147200</td>\n",
       "      <td>0.211900</td>\n",
       "      <td>0.339100</td>\n",
       "      <td>1.05800</td>\n",
       "    </tr>\n",
       "    <tr>\n",
       "      <th>worst concavity</th>\n",
       "      <td>569.0</td>\n",
       "      <td>0.272188</td>\n",
       "      <td>0.208624</td>\n",
       "      <td>0.000000</td>\n",
       "      <td>0.114500</td>\n",
       "      <td>0.226700</td>\n",
       "      <td>0.382900</td>\n",
       "      <td>1.25200</td>\n",
       "    </tr>\n",
       "    <tr>\n",
       "      <th>worst concave points</th>\n",
       "      <td>569.0</td>\n",
       "      <td>0.114606</td>\n",
       "      <td>0.065732</td>\n",
       "      <td>0.000000</td>\n",
       "      <td>0.064930</td>\n",
       "      <td>0.099930</td>\n",
       "      <td>0.161400</td>\n",
       "      <td>0.29100</td>\n",
       "    </tr>\n",
       "    <tr>\n",
       "      <th>worst symmetry</th>\n",
       "      <td>569.0</td>\n",
       "      <td>0.290076</td>\n",
       "      <td>0.061867</td>\n",
       "      <td>0.156500</td>\n",
       "      <td>0.250400</td>\n",
       "      <td>0.282200</td>\n",
       "      <td>0.317900</td>\n",
       "      <td>0.66380</td>\n",
       "    </tr>\n",
       "    <tr>\n",
       "      <th>worst fractal dimension</th>\n",
       "      <td>569.0</td>\n",
       "      <td>0.083946</td>\n",
       "      <td>0.018061</td>\n",
       "      <td>0.055040</td>\n",
       "      <td>0.071460</td>\n",
       "      <td>0.080040</td>\n",
       "      <td>0.092080</td>\n",
       "      <td>0.20750</td>\n",
       "    </tr>\n",
       "    <tr>\n",
       "      <th>target</th>\n",
       "      <td>569.0</td>\n",
       "      <td>0.627417</td>\n",
       "      <td>0.483918</td>\n",
       "      <td>0.000000</td>\n",
       "      <td>0.000000</td>\n",
       "      <td>1.000000</td>\n",
       "      <td>1.000000</td>\n",
       "      <td>1.00000</td>\n",
       "    </tr>\n",
       "  </tbody>\n",
       "</table>\n",
       "</div>"
      ],
      "text/plain": [
       "                         count        mean         std         min  \\\n",
       "mean radius              569.0   14.127292    3.524049    6.981000   \n",
       "mean texture             569.0   19.289649    4.301036    9.710000   \n",
       "mean perimeter           569.0   91.969033   24.298981   43.790000   \n",
       "mean area                569.0  654.889104  351.914129  143.500000   \n",
       "mean smoothness          569.0    0.096360    0.014064    0.052630   \n",
       "mean compactness         569.0    0.104341    0.052813    0.019380   \n",
       "mean concavity           569.0    0.088799    0.079720    0.000000   \n",
       "mean concave points      569.0    0.048919    0.038803    0.000000   \n",
       "mean symmetry            569.0    0.181162    0.027414    0.106000   \n",
       "mean fractal dimension   569.0    0.062798    0.007060    0.049960   \n",
       "radius error             569.0    0.405172    0.277313    0.111500   \n",
       "texture error            569.0    1.216853    0.551648    0.360200   \n",
       "perimeter error          569.0    2.866059    2.021855    0.757000   \n",
       "area error               569.0   40.337079   45.491006    6.802000   \n",
       "smoothness error         569.0    0.007041    0.003003    0.001713   \n",
       "compactness error        569.0    0.025478    0.017908    0.002252   \n",
       "concavity error          569.0    0.031894    0.030186    0.000000   \n",
       "concave points error     569.0    0.011796    0.006170    0.000000   \n",
       "symmetry error           569.0    0.020542    0.008266    0.007882   \n",
       "fractal dimension error  569.0    0.003795    0.002646    0.000895   \n",
       "worst radius             569.0   16.269190    4.833242    7.930000   \n",
       "worst texture            569.0   25.677223    6.146258   12.020000   \n",
       "worst perimeter          569.0  107.261213   33.602542   50.410000   \n",
       "worst area               569.0  880.583128  569.356993  185.200000   \n",
       "worst smoothness         569.0    0.132369    0.022832    0.071170   \n",
       "worst compactness        569.0    0.254265    0.157336    0.027290   \n",
       "worst concavity          569.0    0.272188    0.208624    0.000000   \n",
       "worst concave points     569.0    0.114606    0.065732    0.000000   \n",
       "worst symmetry           569.0    0.290076    0.061867    0.156500   \n",
       "worst fractal dimension  569.0    0.083946    0.018061    0.055040   \n",
       "target                   569.0    0.627417    0.483918    0.000000   \n",
       "\n",
       "                                25%         50%          75%         max  \n",
       "mean radius               11.700000   13.370000    15.780000    28.11000  \n",
       "mean texture              16.170000   18.840000    21.800000    39.28000  \n",
       "mean perimeter            75.170000   86.240000   104.100000   188.50000  \n",
       "mean area                420.300000  551.100000   782.700000  2501.00000  \n",
       "mean smoothness            0.086370    0.095870     0.105300     0.16340  \n",
       "mean compactness           0.064920    0.092630     0.130400     0.34540  \n",
       "mean concavity             0.029560    0.061540     0.130700     0.42680  \n",
       "mean concave points        0.020310    0.033500     0.074000     0.20120  \n",
       "mean symmetry              0.161900    0.179200     0.195700     0.30400  \n",
       "mean fractal dimension     0.057700    0.061540     0.066120     0.09744  \n",
       "radius error               0.232400    0.324200     0.478900     2.87300  \n",
       "texture error              0.833900    1.108000     1.474000     4.88500  \n",
       "perimeter error            1.606000    2.287000     3.357000    21.98000  \n",
       "area error                17.850000   24.530000    45.190000   542.20000  \n",
       "smoothness error           0.005169    0.006380     0.008146     0.03113  \n",
       "compactness error          0.013080    0.020450     0.032450     0.13540  \n",
       "concavity error            0.015090    0.025890     0.042050     0.39600  \n",
       "concave points error       0.007638    0.010930     0.014710     0.05279  \n",
       "symmetry error             0.015160    0.018730     0.023480     0.07895  \n",
       "fractal dimension error    0.002248    0.003187     0.004558     0.02984  \n",
       "worst radius              13.010000   14.970000    18.790000    36.04000  \n",
       "worst texture             21.080000   25.410000    29.720000    49.54000  \n",
       "worst perimeter           84.110000   97.660000   125.400000   251.20000  \n",
       "worst area               515.300000  686.500000  1084.000000  4254.00000  \n",
       "worst smoothness           0.116600    0.131300     0.146000     0.22260  \n",
       "worst compactness          0.147200    0.211900     0.339100     1.05800  \n",
       "worst concavity            0.114500    0.226700     0.382900     1.25200  \n",
       "worst concave points       0.064930    0.099930     0.161400     0.29100  \n",
       "worst symmetry             0.250400    0.282200     0.317900     0.66380  \n",
       "worst fractal dimension    0.071460    0.080040     0.092080     0.20750  \n",
       "target                     0.000000    1.000000     1.000000     1.00000  "
      ]
     },
     "execution_count": 6,
     "metadata": {},
     "output_type": "execute_result"
    }
   ],
   "source": [
    "df.describe().T"
   ]
  },
  {
   "cell_type": "code",
   "execution_count": 7,
   "id": "f95a51fb-a7b3-449c-a0ae-9543b15b81b5",
   "metadata": {},
   "outputs": [
    {
     "data": {
      "text/plain": [
       "0"
      ]
     },
     "execution_count": 7,
     "metadata": {},
     "output_type": "execute_result"
    }
   ],
   "source": [
    "df.duplicated().sum()"
   ]
  },
  {
   "cell_type": "code",
   "execution_count": 8,
   "id": "5a74db7c-c7e3-43bd-8266-0cc63626bbb5",
   "metadata": {},
   "outputs": [
    {
     "name": "stdout",
     "output_type": "stream",
     "text": [
      "mean radius                 24.944971\n",
      "mean texture                22.297118\n",
      "mean perimeter              26.420829\n",
      "mean area                   53.736446\n",
      "mean smoothness             14.595358\n",
      "mean compactness            50.615545\n",
      "mean concavity              89.775251\n",
      "mean concave points         79.320365\n",
      "mean symmetry               15.132479\n",
      "mean fractal dimension      11.243044\n",
      "radius error                68.443203\n",
      "texture error               45.334005\n",
      "perimeter error             70.544758\n",
      "area error                 112.777143\n",
      "smoothness error            42.643473\n",
      "compactness error           70.288413\n",
      "concavity error             94.645792\n",
      "concave points error        52.307676\n",
      "symmetry error              40.240733\n",
      "fractal dimension error     69.726956\n",
      "worst radius                29.707943\n",
      "worst texture               23.936613\n",
      "worst perimeter             31.327767\n",
      "worst area                  64.656814\n",
      "worst smoothness            17.249129\n",
      "worst compactness           61.878930\n",
      "worst concavity             76.646990\n",
      "worst concave points        57.354949\n",
      "worst symmetry              21.328052\n",
      "worst fractal dimension     21.515387\n",
      "target                      77.128660\n",
      "dtype: float64\n"
     ]
    }
   ],
   "source": [
    "# degiskenlik katsayisi\n",
    "degiskenlik_katsayisi = df.std() / df.mean()\n",
    "print(degiskenlik_katsayisi*100)"
   ]
  },
  {
   "cell_type": "code",
   "execution_count": 9,
   "id": "0465afb2-f737-4e79-b582-f1d90766d358",
   "metadata": {},
   "outputs": [
    {
     "data": {
      "text/plain": [
       "<Axes: >"
      ]
     },
     "execution_count": 9,
     "metadata": {},
     "output_type": "execute_result"
    },
    {
     "data": {
      "image/png": "[encoded data removed]",
      "text/plain": [
       "<Figure size 640x480 with 1 Axes>"
      ]
     },
     "metadata": {},
     "output_type": "display_data"
    }
   ],
   "source": [
    "sirali_dk = degiskenlik_katsayisi.sort_values()\n",
    "sirali_dk.plot.barh(x = 'Değişkenler', y = 'Değişkenlik Katsayısı', color = '#528b8b')"
   ]
  },
  {
   "cell_type": "code",
   "execution_count": 10,
   "id": "3d7acaa9-3175-4ad2-94bb-c71908a4a3a9",
   "metadata": {},
   "outputs": [
    {
     "data": {
      "text/plain": [
       "1    357\n",
       "0    212\n",
       "Name: target, dtype: int64"
      ]
     },
     "execution_count": 10,
     "metadata": {},
     "output_type": "execute_result"
    },
    {
     "data": {
      "image/png": "[encoded data removed]",
      "text/plain": [
       "<Figure size 2250x750 with 2 Axes>"
      ]
     },
     "metadata": {},
     "output_type": "display_data"
    }
   ],
   "source": [
    "# hedef degiskeni\n",
    "sns.set_style('whitegrid')\n",
    "plt.figure(figsize=(15, 5), dpi=150)\n",
    "plt.subplot(121)\n",
    "df['target'].value_counts().plot(kind='pie', autopct='%2.f%%', radius=1.24, colors=sns.color_palette('pastel'))\n",
    "plt.subplot(122)\n",
    "sns.countplot(data=df, x='target', palette='pastel')\n",
    "df['target'].value_counts()"
   ]
  },
  {
   "cell_type": "code",
   "execution_count": 11,
   "id": "f3b1828d-6ab9-48de-8453-74f56df90e86",
   "metadata": {},
   "outputs": [
    {
     "name": "stdout",
     "output_type": "stream",
     "text": [
      "+-------------------------+--------------+-------------+----------------------------+-------------+-------------------------+\n",
      "|        Variable         | Shapiro Test | Skewness C. |          Skewness          | Kurtosis C. |        Kurtosis         |\n",
      "+-------------------------+--------------+-------------+----------------------------+-------------+-------------------------+\n",
      "|       mean radius       |      No      |   0.9424    | Simetrik veya hafif çarpık |   0.8455    | Normal veya hafif basık |\n",
      "|      mean texture       |      No      |   0.6504    | Simetrik veya hafif çarpık |   0.7583    | Normal veya hafif basık |\n",
      "|     mean perimeter      |      No      |   0.9907    | Simetrik veya hafif çarpık |   0.9722    | Normal veya hafif basık |\n",
      "|        mean area        |      No      |   1.6457    |      Yüksek çarpıklık      |   3.6523    |  Çok basık veya sivri   |\n",
      "|     mean smoothness     |      No      |   0.4563    | Simetrik veya hafif çarpık |   0.8560    | Normal veya hafif basık |\n",
      "|    mean compactness     |      No      |   1.1901    |      Yüksek çarpıklık      |   1.6501    | Normal veya hafif basık |\n",
      "|     mean concavity      |      No      |   1.4012    |      Yüksek çarpıklık      |   1.9986    | Normal veya hafif basık |\n",
      "|   mean concave points   |      No      |   1.1712    |      Yüksek çarpıklık      |   1.0666    | Normal veya hafif basık |\n",
      "|      mean symmetry      |      No      |   0.7256    | Simetrik veya hafif çarpık |   1.2879    | Normal veya hafif basık |\n",
      "| mean fractal dimension  |      No      |   1.3045    |      Yüksek çarpıklık      |   3.0059    |  Çok basık veya sivri   |\n",
      "|      radius error       |      No      |   3.0886    |      Yüksek çarpıklık      |   17.6867   |  Çok basık veya sivri   |\n",
      "|      texture error      |      No      |   1.6464    |      Yüksek çarpıklık      |   5.3492    |  Çok basık veya sivri   |\n",
      "|     perimeter error     |      No      |   3.4436    |      Yüksek çarpıklık      |   21.4019   |  Çok basık veya sivri   |\n",
      "|       area error        |      No      |   5.4472    |      Yüksek çarpıklık      |   49.2091   |  Çok basık veya sivri   |\n",
      "|    smoothness error     |      No      |   2.3145    |      Yüksek çarpıklık      |   10.4698   |  Çok basık veya sivri   |\n",
      "|    compactness error    |      No      |   1.9022    |      Yüksek çarpıklık      |   5.1063    |  Çok basık veya sivri   |\n",
      "|     concavity error     |      No      |   5.1105    |      Yüksek çarpıklık      |   48.8614   |  Çok basık veya sivri   |\n",
      "|  concave points error   |      No      |   1.4447    |      Yüksek çarpıklık      |   5.1263    |  Çok basık veya sivri   |\n",
      "|     symmetry error      |      No      |   2.1951    |      Yüksek çarpıklık      |   7.8961    |  Çok basık veya sivri   |\n",
      "| fractal dimension error |      No      |   3.9240    |      Yüksek çarpıklık      |   26.2808   |  Çok basık veya sivri   |\n",
      "|      worst radius       |      No      |   1.1031    |      Yüksek çarpıklık      |   0.9441    | Normal veya hafif basık |\n",
      "|      worst texture      |      No      |   0.4983    | Simetrik veya hafif çarpık |   0.2243    | Normal veya hafif basık |\n",
      "|     worst perimeter     |      No      |   1.1282    |      Yüksek çarpıklık      |   1.0701    | Normal veya hafif basık |\n",
      "|       worst area        |      No      |   1.8594    |      Yüksek çarpıklık      |   4.3964    |  Çok basık veya sivri   |\n",
      "|    worst smoothness     |      No      |   0.4154    | Simetrik veya hafif çarpık |   0.5178    | Normal veya hafif basık |\n",
      "|    worst compactness    |      No      |   1.4736    |      Yüksek çarpıklık      |   3.0393    |  Çok basık veya sivri   |\n",
      "|     worst concavity     |      No      |   1.1502    |      Yüksek çarpıklık      |   1.6153    | Normal veya hafif basık |\n",
      "|  worst concave points   |      No      |   0.4926    | Simetrik veya hafif çarpık |   -0.5355   | Normal veya hafif basık |\n",
      "|     worst symmetry      |      No      |   1.4339    |      Yüksek çarpıklık      |   4.4446    |  Çok basık veya sivri   |\n",
      "| worst fractal dimension |      No      |   1.6626    |      Yüksek çarpıklık      |   5.2446    |  Çok basık veya sivri   |\n",
      "|         target          |      No      |   -0.5285   | Simetrik veya hafif çarpık |   -1.7268   | Normal veya hafif basık |\n",
      "+-------------------------+--------------+-------------+----------------------------+-------------+-------------------------+\n"
     ]
    }
   ],
   "source": [
    "# carpiklik ve basiklik\n",
    "skewness = df.skew()\n",
    "kurtosisness = df.kurtosis()\n",
    "\n",
    "headers = ['Variable', 'Shapiro Test', 'Skewness C.', 'Skewness', 'Kurtosis C.', 'Kurtosis']\n",
    "\n",
    "table_data = []\n",
    "for col in df.columns:\n",
    "    stat, p = normaltest(df[col])\n",
    "    skewness_val = f'{skewness[col]:.4f}'\n",
    "    skewness_desc = 'Yüksek çarpıklık' if skewness[col] < -1 or skewness[col] > 1 else 'Simetrik veya hafif çarpık'\n",
    "    kurtosis_val = f'{kurtosisness[col]:.4f}'\n",
    "    kurtosis_desc = 'Çok basık veya sivri' if kurtosisness[col] < -2 or kurtosisness[col] > 2 else 'Normal veya hafif basık'\n",
    "\n",
    "    stat_sh, p_sh = shapiro(df[col])\n",
    "    shapiro_test = 'Yes' if p_sh >= 0.05 else 'No'\n",
    "    \n",
    "    table_data.append([col, shapiro_test, skewness_val, skewness_desc, kurtosis_val, kurtosis_desc])\n",
    "\n",
    "table = tabulate(table_data, headers, tablefmt='pretty')\n",
    "print(table)"
   ]
  },
  {
   "cell_type": "code",
   "execution_count": 12,
   "id": "44baec6c-f9f7-4d6a-a364-c066e94a4e15",
   "metadata": {},
   "outputs": [
    {
     "data": {
      "image/png": "[encoded data removed]",
      "text/plain": [
       "<Figure size 1200x1200 with 2 Axes>"
      ]
     },
     "metadata": {},
     "output_type": "display_data"
    }
   ],
   "source": [
    "# korelasyon\n",
    "corr = df.corr()\n",
    "sns.set(rc={'figure.figsize': (12, 12)})\n",
    "sns.heatmap(corr, cmap='coolwarm')\n",
    "plt.show()"
   ]
  },
  {
   "cell_type": "code",
   "execution_count": 13,
   "id": "061980c1-ba80-440f-83e8-0dea8e2112dd",
   "metadata": {},
   "outputs": [
    {
     "data": {
      "text/plain": [
       "array([0, 1])"
      ]
     },
     "execution_count": 13,
     "metadata": {},
     "output_type": "execute_result"
    }
   ],
   "source": [
    "df['target'].unique()"
   ]
  },
  {
   "cell_type": "code",
   "execution_count": 14,
   "id": "6331f243-0946-4252-ab52-4bc86c4bdc61",
   "metadata": {},
   "outputs": [],
   "source": [
    "# bagimli ve bagimsiz degisken\n",
    "y = df['target']                    \n",
    "x = df.drop(['target'], axis=1) "
   ]
  },
  {
   "cell_type": "code",
   "execution_count": 15,
   "id": "35ae372f-c790-4849-b9f7-8f61f1057bec",
   "metadata": {},
   "outputs": [],
   "source": [
    "# train-test-split\n",
    "X_train, X_test, y_train, y_test = train_test_split(x, y, test_size=0.2, random_state=42)"
   ]
  },
  {
   "cell_type": "code",
   "execution_count": 16,
   "id": "806bf839-cf73-484f-ab72-c2653393a100",
   "metadata": {},
   "outputs": [
    {
     "name": "stdout",
     "output_type": "stream",
     "text": [
      "X_train = (455, 30)\n",
      "y_train = (455,)\n",
      "X_test = (114, 30)\n",
      "y_test = (114,)\n"
     ]
    }
   ],
   "source": [
    "print('X_train =', X_train.shape)\n",
    "print('y_train =', y_train.shape)\n",
    "print('X_test =', X_test.shape)\n",
    "print('y_test =', y_test.shape)"
   ]
  },
  {
   "cell_type": "code",
   "execution_count": 17,
   "id": "0db4eba1-3e3c-45f3-9e02-2fc0ace900f7",
   "metadata": {},
   "outputs": [],
   "source": [
    "# standartizasyon\n",
    "scaler = StandardScaler()\n",
    "X_train = scaler.fit_transform(X_train)\n",
    "X_test = scaler.transform(X_test)"
   ]
  },
  {
   "cell_type": "code",
   "execution_count": 18,
   "id": "a04d6c7c-53b5-4085-b9f7-8afe4466f0d7",
   "metadata": {},
   "outputs": [
    {
     "name": "stdout",
     "output_type": "stream",
     "text": [
      "                    Model  Cross-Validation Accuracy  Test Accuracy\n",
      "Support Vector Classifier                   0.975824       0.982456\n",
      "      Logistic Regression                   0.973626       0.973684\n",
      "                  XGBoost                   0.964835       0.956140\n",
      "                 AdaBoost                   0.964835       0.973684\n",
      "                 CatBoost                   0.964835       0.973684\n",
      "                      KNN                   0.960440       0.947368\n",
      "                 LightGBM                   0.960440       0.964912\n",
      "            Random Forest                   0.956044       0.964912\n",
      "        Gradient Boosting                   0.951648       0.956140\n",
      "              Naive Bayes                   0.934066       0.964912\n",
      "            Decision Tree                   0.920879       0.938596\n"
     ]
    }
   ],
   "source": [
    "models = [\n",
    "    ('Logistic Regression', LogisticRegression()),\n",
    "    ('Support Vector Classifier', SVC()),\n",
    "    ('Naive Bayes', GaussianNB()),\n",
    "    ('KNN', KNeighborsClassifier()),\n",
    "    ('Decision Tree', DecisionTreeClassifier()),\n",
    "    ('Random Forest', RandomForestClassifier()),\n",
    "    ('XGBoost', xgb.XGBClassifier()),\n",
    "    ('LightGBM', lgb.LGBMClassifier()),\n",
    "    ('CatBoost', cb.CatBoostClassifier(verbose=0)),\n",
    "    ('AdaBoost', AdaBoostClassifier()),\n",
    "    ('Gradient Boosting', GradientBoostingClassifier())\n",
    "]\n",
    "\n",
    "results = []\n",
    "confusion_matrices = []\n",
    "classification_reports = []\n",
    "\n",
    "for model_name, model in models:\n",
    "    cv_results = cross_val_score(model, X_train, y_train, cv=5)\n",
    "    mean_accuracy = cv_results.mean()\n",
    "    \n",
    "    model.fit(X_train, y_train)\n",
    "    y_pred = model.predict(X_test)\n",
    "    accuracy = accuracy_score(y_test, y_pred)\n",
    "    cm = confusion_matrix(y_test, y_pred)\n",
    "    cr = classification_report(y_test, y_pred)\n",
    "    \n",
    "    results.append((model_name, mean_accuracy, accuracy))\n",
    "    confusion_matrices.append((model_name, cm))\n",
    "    classification_reports.append((model_name, cr))\n",
    "\n",
    "df_results = pd.DataFrame(results, columns=['Model', 'Cross-Validation Accuracy', 'Test Accuracy'])\n",
    "df_results.sort_values('Cross-Validation Accuracy', ascending=False, inplace=True)\n",
    "\n",
    "print(df_results.to_string(index=False))"
   ]
  },
  {
   "cell_type": "code",
   "execution_count": 19,
   "id": "6cfa5885-4293-423a-bfa1-09f9f8bf51f2",
   "metadata": {},
   "outputs": [
    {
     "data": {
      "image/png": "[encoded data removed]",
      "text/plain": [
       "<Figure size 1200x800 with 22 Axes>"
      ]
     },
     "metadata": {},
     "output_type": "display_data"
    }
   ],
   "source": [
    "# confusion matrices\n",
    "plt.figure(figsize=(12, 8))\n",
    "for i, (model_name, cm) in enumerate(confusion_matrices, 1):\n",
    "    plt.subplot(3, 4, i)\n",
    "    plt.title(model_name)\n",
    "    sns.heatmap(cm, annot=True, fmt='d', cmap='Blues')\n",
    "    plt.xlabel('Predicted Label')\n",
    "    plt.ylabel('True Label')\n",
    "plt.tight_layout()\n",
    "plt.show()"
   ]
  },
  {
   "cell_type": "code",
   "execution_count": 20,
   "id": "4c6363d3-4017-4018-a9c3-b4b373617e2b",
   "metadata": {},
   "outputs": [
    {
     "name": "stdout",
     "output_type": "stream",
     "text": [
      "\u001b[1mLogistic Regression:\u001b[0m\n",
      "\u001b[1mClassification Report:\u001b[0m\n",
      "              precision    recall  f1-score   support\n",
      "\n",
      "           0       0.98      0.95      0.96        43\n",
      "           1       0.97      0.99      0.98        71\n",
      "\n",
      "    accuracy                           0.97       114\n",
      "   macro avg       0.97      0.97      0.97       114\n",
      "weighted avg       0.97      0.97      0.97       114\n",
      "\n",
      "------------------------------------------------------------\n",
      "\u001b[1mSupport Vector Classifier:\u001b[0m\n",
      "\u001b[1mClassification Report:\u001b[0m\n",
      "              precision    recall  f1-score   support\n",
      "\n",
      "           0       1.00      0.95      0.98        43\n",
      "           1       0.97      1.00      0.99        71\n",
      "\n",
      "    accuracy                           0.98       114\n",
      "   macro avg       0.99      0.98      0.98       114\n",
      "weighted avg       0.98      0.98      0.98       114\n",
      "\n",
      "------------------------------------------------------------\n",
      "\u001b[1mNaive Bayes:\u001b[0m\n",
      "\u001b[1mClassification Report:\u001b[0m\n",
      "              precision    recall  f1-score   support\n",
      "\n",
      "           0       0.98      0.93      0.95        43\n",
      "           1       0.96      0.99      0.97        71\n",
      "\n",
      "    accuracy                           0.96       114\n",
      "   macro avg       0.97      0.96      0.96       114\n",
      "weighted avg       0.97      0.96      0.96       114\n",
      "\n",
      "------------------------------------------------------------\n",
      "\u001b[1mKNN:\u001b[0m\n",
      "\u001b[1mClassification Report:\u001b[0m\n",
      "              precision    recall  f1-score   support\n",
      "\n",
      "           0       0.93      0.93      0.93        43\n",
      "           1       0.96      0.96      0.96        71\n",
      "\n",
      "    accuracy                           0.95       114\n",
      "   macro avg       0.94      0.94      0.94       114\n",
      "weighted avg       0.95      0.95      0.95       114\n",
      "\n",
      "------------------------------------------------------------\n",
      "\u001b[1mDecision Tree:\u001b[0m\n",
      "\u001b[1mClassification Report:\u001b[0m\n",
      "              precision    recall  f1-score   support\n",
      "\n",
      "           0       0.93      0.91      0.92        43\n",
      "           1       0.94      0.96      0.95        71\n",
      "\n",
      "    accuracy                           0.94       114\n",
      "   macro avg       0.94      0.93      0.93       114\n",
      "weighted avg       0.94      0.94      0.94       114\n",
      "\n",
      "------------------------------------------------------------\n",
      "\u001b[1mRandom Forest:\u001b[0m\n",
      "\u001b[1mClassification Report:\u001b[0m\n",
      "              precision    recall  f1-score   support\n",
      "\n",
      "           0       0.98      0.93      0.95        43\n",
      "           1       0.96      0.99      0.97        71\n",
      "\n",
      "    accuracy                           0.96       114\n",
      "   macro avg       0.97      0.96      0.96       114\n",
      "weighted avg       0.97      0.96      0.96       114\n",
      "\n",
      "------------------------------------------------------------\n",
      "\u001b[1mXGBoost:\u001b[0m\n",
      "\u001b[1mClassification Report:\u001b[0m\n",
      "              precision    recall  f1-score   support\n",
      "\n",
      "           0       0.95      0.93      0.94        43\n",
      "           1       0.96      0.97      0.97        71\n",
      "\n",
      "    accuracy                           0.96       114\n",
      "   macro avg       0.96      0.95      0.95       114\n",
      "weighted avg       0.96      0.96      0.96       114\n",
      "\n",
      "------------------------------------------------------------\n",
      "\u001b[1mLightGBM:\u001b[0m\n",
      "\u001b[1mClassification Report:\u001b[0m\n",
      "              precision    recall  f1-score   support\n",
      "\n",
      "           0       0.98      0.93      0.95        43\n",
      "           1       0.96      0.99      0.97        71\n",
      "\n",
      "    accuracy                           0.96       114\n",
      "   macro avg       0.97      0.96      0.96       114\n",
      "weighted avg       0.97      0.96      0.96       114\n",
      "\n",
      "------------------------------------------------------------\n",
      "\u001b[1mCatBoost:\u001b[0m\n",
      "\u001b[1mClassification Report:\u001b[0m\n",
      "              precision    recall  f1-score   support\n",
      "\n",
      "           0       0.98      0.95      0.96        43\n",
      "           1       0.97      0.99      0.98        71\n",
      "\n",
      "    accuracy                           0.97       114\n",
      "   macro avg       0.97      0.97      0.97       114\n",
      "weighted avg       0.97      0.97      0.97       114\n",
      "\n",
      "------------------------------------------------------------\n",
      "\u001b[1mAdaBoost:\u001b[0m\n",
      "\u001b[1mClassification Report:\u001b[0m\n",
      "              precision    recall  f1-score   support\n",
      "\n",
      "           0       0.98      0.95      0.96        43\n",
      "           1       0.97      0.99      0.98        71\n",
      "\n",
      "    accuracy                           0.97       114\n",
      "   macro avg       0.97      0.97      0.97       114\n",
      "weighted avg       0.97      0.97      0.97       114\n",
      "\n",
      "------------------------------------------------------------\n",
      "\u001b[1mGradient Boosting:\u001b[0m\n",
      "\u001b[1mClassification Report:\u001b[0m\n",
      "              precision    recall  f1-score   support\n",
      "\n",
      "           0       0.95      0.93      0.94        43\n",
      "           1       0.96      0.97      0.97        71\n",
      "\n",
      "    accuracy                           0.96       114\n",
      "   macro avg       0.96      0.95      0.95       114\n",
      "weighted avg       0.96      0.96      0.96       114\n",
      "\n",
      "------------------------------------------------------------\n"
     ]
    }
   ],
   "source": [
    "for model_name, cr in classification_reports:\n",
    "    print(f'\\033[1m{model_name}:\\033[0m')\n",
    "    print(f'\\033[1mClassification Report:\\033[0m')\n",
    "    print(cr)\n",
    "    print('-'*60)"
   ]
  },
  {
   "cell_type": "code",
   "execution_count": 21,
   "id": "ca1b11d7-6cbb-4b68-8063-f9985c459df1",
   "metadata": {
    "tags": []
   },
   "outputs": [],
   "source": [
    "# yapay sinir agi keras\n",
    "# optuna ile parametre ayarı\n",
    "import optuna\n",
    "\n",
    "def objective(trial):\n",
    "    num_layers = trial.suggest_int('num_layers', 1, 3)\n",
    "    num_units = trial.suggest_int('num_units', 8, 64)\n",
    "    activation = trial.suggest_categorical('activation', ['relu', 'sigmoid', 'tanh'])\n",
    "    optimizer = trial.suggest_categorical('optimizer', ['adam', 'sgd', 'rmsprop'])\n",
    "    epochs = trial.suggest_int('epochs', 50, 200)\n",
    "\n",
    "    model = Sequential()\n",
    "    model.add(Dense(num_units, input_dim=30, activation=activation))\n",
    "    for i in range(num_layers - 1):\n",
    "        model.add(Dense(num_units, activation=activation))\n",
    "    model.add(Dense(1, activation='sigmoid'))\n",
    "\n",
    "    model.compile(loss='binary_crossentropy', optimizer=optimizer, metrics=['accuracy'])\n",
    "\n",
    "    model.fit(X_train, y_train, epochs=epochs, batch_size=32, verbose=0)\n",
    "\n",
    "    loss, accuracy = model.evaluate(X_test, y_test)\n",
    "    return accuracy"
   ]
  },
  {
   "cell_type": "code",
   "execution_count": 22,
   "id": "8ba785ba-ad96-4fbd-b048-1d2c26683793",
   "metadata": {
    "tags": []
   },
   "outputs": [
    {
     "name": "stderr",
     "output_type": "stream",
     "text": [
      "[I 2023-07-22 19:58:42,277] A new study created in memory with name: no-name-3f02e003-8af8-43ea-ace4-ffba734ac7b1\n"
     ]
    },
    {
     "name": "stdout",
     "output_type": "stream",
     "text": [
      "4/4 [==============================] - 0s 5ms/step - loss: 0.0747 - accuracy: 0.9825\n"
     ]
    },
    {
     "name": "stderr",
     "output_type": "stream",
     "text": [
      "[I 2023-07-22 19:58:46,121] Trial 0 finished with value: 0.9824561476707458 and parameters: {'num_layers': 1, 'num_units': 55, 'activation': 'tanh', 'optimizer': 'adam', 'epochs': 112}. Best is trial 0 with value: 0.9824561476707458.\n"
     ]
    },
    {
     "name": "stdout",
     "output_type": "stream",
     "text": [
      "4/4 [==============================] - 0s 0s/step - loss: 0.0766 - accuracy: 0.9825\n"
     ]
    },
    {
     "name": "stderr",
     "output_type": "stream",
     "text": [
      "[I 2023-07-22 19:58:49,801] Trial 1 finished with value: 0.9824561476707458 and parameters: {'num_layers': 3, 'num_units': 23, 'activation': 'sigmoid', 'optimizer': 'adam', 'epochs': 110}. Best is trial 0 with value: 0.9824561476707458.\n"
     ]
    },
    {
     "name": "stdout",
     "output_type": "stream",
     "text": [
      "4/4 [==============================] - 0s 0s/step - loss: 0.3618 - accuracy: 0.9561\n"
     ]
    },
    {
     "name": "stderr",
     "output_type": "stream",
     "text": [
      "[I 2023-07-22 19:58:53,568] Trial 2 finished with value: 0.9561403393745422 and parameters: {'num_layers': 2, 'num_units': 11, 'activation': 'sigmoid', 'optimizer': 'sgd', 'epochs': 129}. Best is trial 0 with value: 0.9824561476707458.\n"
     ]
    },
    {
     "name": "stdout",
     "output_type": "stream",
     "text": [
      "4/4 [==============================] - 0s 3ms/step - loss: 0.0899 - accuracy: 0.9737\n"
     ]
    },
    {
     "name": "stderr",
     "output_type": "stream",
     "text": [
      "[I 2023-07-22 19:58:56,659] Trial 3 finished with value: 0.9736841917037964 and parameters: {'num_layers': 1, 'num_units': 60, 'activation': 'relu', 'optimizer': 'rmsprop', 'epochs': 80}. Best is trial 0 with value: 0.9824561476707458.\n"
     ]
    },
    {
     "name": "stdout",
     "output_type": "stream",
     "text": [
      "4/4 [==============================] - 0s 2ms/step - loss: 0.0630 - accuracy: 0.9825\n"
     ]
    },
    {
     "name": "stderr",
     "output_type": "stream",
     "text": [
      "[I 2023-07-22 19:58:59,460] Trial 4 finished with value: 0.9824561476707458 and parameters: {'num_layers': 1, 'num_units': 18, 'activation': 'relu', 'optimizer': 'adam', 'epochs': 84}. Best is trial 0 with value: 0.9824561476707458.\n"
     ]
    },
    {
     "name": "stdout",
     "output_type": "stream",
     "text": [
      "4/4 [==============================] - 0s 0s/step - loss: 0.0674 - accuracy: 0.9825\n"
     ]
    },
    {
     "name": "stderr",
     "output_type": "stream",
     "text": [
      "[I 2023-07-22 19:59:04,075] Trial 5 finished with value: 0.9824561476707458 and parameters: {'num_layers': 1, 'num_units': 13, 'activation': 'tanh', 'optimizer': 'adam', 'epochs': 164}. Best is trial 0 with value: 0.9824561476707458.\n"
     ]
    },
    {
     "name": "stdout",
     "output_type": "stream",
     "text": [
      "4/4 [==============================] - 0s 4ms/step - loss: 0.0743 - accuracy: 0.9649\n"
     ]
    },
    {
     "name": "stderr",
     "output_type": "stream",
     "text": [
      "[I 2023-07-22 19:59:07,720] Trial 6 finished with value: 0.9649122953414917 and parameters: {'num_layers': 3, 'num_units': 23, 'activation': 'relu', 'optimizer': 'sgd', 'epochs': 120}. Best is trial 0 with value: 0.9824561476707458.\n"
     ]
    },
    {
     "name": "stdout",
     "output_type": "stream",
     "text": [
      "4/4 [==============================] - 0s 3ms/step - loss: 0.0689 - accuracy: 0.9737\n"
     ]
    },
    {
     "name": "stderr",
     "output_type": "stream",
     "text": [
      "[I 2023-07-22 19:59:11,869] Trial 7 finished with value: 0.9736841917037964 and parameters: {'num_layers': 1, 'num_units': 41, 'activation': 'relu', 'optimizer': 'sgd', 'epochs': 151}. Best is trial 0 with value: 0.9824561476707458.\n"
     ]
    },
    {
     "name": "stdout",
     "output_type": "stream",
     "text": [
      "4/4 [==============================] - 0s 3ms/step - loss: 0.0871 - accuracy: 0.9649\n"
     ]
    },
    {
     "name": "stderr",
     "output_type": "stream",
     "text": [
      "[I 2023-07-22 19:59:15,750] Trial 8 finished with value: 0.9649122953414917 and parameters: {'num_layers': 2, 'num_units': 9, 'activation': 'relu', 'optimizer': 'sgd', 'epochs': 130}. Best is trial 0 with value: 0.9824561476707458.\n"
     ]
    },
    {
     "name": "stdout",
     "output_type": "stream",
     "text": [
      "4/4 [==============================] - 0s 3ms/step - loss: 0.0549 - accuracy: 0.9912\n"
     ]
    },
    {
     "name": "stderr",
     "output_type": "stream",
     "text": [
      "[I 2023-07-22 19:59:18,247] Trial 9 finished with value: 0.9912280440330505 and parameters: {'num_layers': 2, 'num_units': 23, 'activation': 'sigmoid', 'optimizer': 'adam', 'epochs': 61}. Best is trial 9 with value: 0.9912280440330505.\n"
     ]
    },
    {
     "name": "stdout",
     "output_type": "stream",
     "text": [
      "4/4 [==============================] - 0s 3ms/step - loss: 0.0530 - accuracy: 0.9825\n"
     ]
    },
    {
     "name": "stderr",
     "output_type": "stream",
     "text": [
      "[I 2023-07-22 19:59:20,719] Trial 10 finished with value: 0.9824561476707458 and parameters: {'num_layers': 2, 'num_units': 35, 'activation': 'sigmoid', 'optimizer': 'rmsprop', 'epochs': 53}. Best is trial 9 with value: 0.9912280440330505.\n"
     ]
    },
    {
     "name": "stdout",
     "output_type": "stream",
     "text": [
      "4/4 [==============================] - 0s 3ms/step - loss: 0.1765 - accuracy: 0.9649\n"
     ]
    },
    {
     "name": "stderr",
     "output_type": "stream",
     "text": [
      "[I 2023-07-22 19:59:26,758] Trial 11 finished with value: 0.9649122953414917 and parameters: {'num_layers': 2, 'num_units': 63, 'activation': 'tanh', 'optimizer': 'adam', 'epochs': 199}. Best is trial 9 with value: 0.9912280440330505.\n"
     ]
    },
    {
     "name": "stdout",
     "output_type": "stream",
     "text": [
      "4/4 [==============================] - 0s 0s/step - loss: 0.1065 - accuracy: 0.9561\n"
     ]
    },
    {
     "name": "stderr",
     "output_type": "stream",
     "text": [
      "[I 2023-07-22 19:59:29,096] Trial 12 finished with value: 0.9561403393745422 and parameters: {'num_layers': 3, 'num_units': 49, 'activation': 'tanh', 'optimizer': 'adam', 'epochs': 50}. Best is trial 9 with value: 0.9912280440330505.\n"
     ]
    },
    {
     "name": "stdout",
     "output_type": "stream",
     "text": [
      "4/4 [==============================] - 0s 3ms/step - loss: 0.0627 - accuracy: 0.9825\n"
     ]
    },
    {
     "name": "stderr",
     "output_type": "stream",
     "text": [
      "[I 2023-07-22 19:59:32,224] Trial 13 finished with value: 0.9824561476707458 and parameters: {'num_layers': 1, 'num_units': 33, 'activation': 'tanh', 'optimizer': 'adam', 'epochs': 87}. Best is trial 9 with value: 0.9912280440330505.\n"
     ]
    },
    {
     "name": "stdout",
     "output_type": "stream",
     "text": [
      "4/4 [==============================] - 0s 3ms/step - loss: 0.0558 - accuracy: 0.9825\n"
     ]
    },
    {
     "name": "stderr",
     "output_type": "stream",
     "text": [
      "[I 2023-07-22 19:59:35,049] Trial 14 finished with value: 0.9824561476707458 and parameters: {'num_layers': 2, 'num_units': 53, 'activation': 'sigmoid', 'optimizer': 'adam', 'epochs': 68}. Best is trial 9 with value: 0.9912280440330505.\n"
     ]
    },
    {
     "name": "stdout",
     "output_type": "stream",
     "text": [
      "4/4 [==============================] - 0s 3ms/step - loss: 0.0655 - accuracy: 0.9825\n"
     ]
    },
    {
     "name": "stderr",
     "output_type": "stream",
     "text": [
      "[I 2023-07-22 19:59:38,233] Trial 15 finished with value: 0.9824561476707458 and parameters: {'num_layers': 1, 'num_units': 44, 'activation': 'tanh', 'optimizer': 'adam', 'epochs': 104}. Best is trial 9 with value: 0.9912280440330505.\n"
     ]
    },
    {
     "name": "stdout",
     "output_type": "stream",
     "text": [
      "4/4 [==============================] - 0s 5ms/step - loss: 0.0834 - accuracy: 0.9825\n"
     ]
    },
    {
     "name": "stderr",
     "output_type": "stream",
     "text": [
      "[I 2023-07-22 19:59:43,035] Trial 16 finished with value: 0.9824561476707458 and parameters: {'num_layers': 3, 'num_units': 28, 'activation': 'sigmoid', 'optimizer': 'rmsprop', 'epochs': 153}. Best is trial 9 with value: 0.9912280440330505.\n"
     ]
    },
    {
     "name": "stdout",
     "output_type": "stream",
     "text": [
      "4/4 [==============================] - 0s 5ms/step - loss: 0.1397 - accuracy: 0.9737\n"
     ]
    },
    {
     "name": "stderr",
     "output_type": "stream",
     "text": [
      "[I 2023-07-22 19:59:48,467] Trial 17 finished with value: 0.9736841917037964 and parameters: {'num_layers': 2, 'num_units': 53, 'activation': 'tanh', 'optimizer': 'adam', 'epochs': 194}. Best is trial 9 with value: 0.9912280440330505.\n"
     ]
    },
    {
     "name": "stdout",
     "output_type": "stream",
     "text": [
      "4/4 [==============================] - 0s 3ms/step - loss: 0.0625 - accuracy: 0.9825\n"
     ]
    },
    {
     "name": "stderr",
     "output_type": "stream",
     "text": [
      "[I 2023-07-22 19:59:52,091] Trial 18 finished with value: 0.9824561476707458 and parameters: {'num_layers': 2, 'num_units': 29, 'activation': 'sigmoid', 'optimizer': 'adam', 'epochs': 100}. Best is trial 9 with value: 0.9912280440330505.\n"
     ]
    },
    {
     "name": "stdout",
     "output_type": "stream",
     "text": [
      "4/4 [==============================] - 0s 0s/step - loss: 0.0604 - accuracy: 0.9825\n"
     ]
    },
    {
     "name": "stderr",
     "output_type": "stream",
     "text": [
      "[I 2023-07-22 19:59:54,583] Trial 19 finished with value: 0.9824561476707458 and parameters: {'num_layers': 1, 'num_units': 43, 'activation': 'tanh', 'optimizer': 'rmsprop', 'epochs': 67}. Best is trial 9 with value: 0.9912280440330505.\n"
     ]
    },
    {
     "name": "stdout",
     "output_type": "stream",
     "text": [
      "4/4 [==============================] - 0s 75us/step - loss: 0.0712 - accuracy: 0.9825\n"
     ]
    },
    {
     "name": "stderr",
     "output_type": "stream",
     "text": [
      "[I 2023-07-22 19:59:59,687] Trial 20 finished with value: 0.9824561476707458 and parameters: {'num_layers': 2, 'num_units': 58, 'activation': 'sigmoid', 'optimizer': 'adam', 'epochs': 175}. Best is trial 9 with value: 0.9912280440330505.\n"
     ]
    },
    {
     "name": "stdout",
     "output_type": "stream",
     "text": [
      "4/4 [==============================] - 0s 3ms/step - loss: 0.0774 - accuracy: 0.9825\n"
     ]
    },
    {
     "name": "stderr",
     "output_type": "stream",
     "text": [
      "[I 2023-07-22 20:00:03,274] Trial 21 finished with value: 0.9824561476707458 and parameters: {'num_layers': 3, 'num_units': 19, 'activation': 'sigmoid', 'optimizer': 'adam', 'epochs': 107}. Best is trial 9 with value: 0.9912280440330505.\n"
     ]
    },
    {
     "name": "stdout",
     "output_type": "stream",
     "text": [
      "4/4 [==============================] - 0s 3ms/step - loss: 0.0988 - accuracy: 0.9825\n"
     ]
    },
    {
     "name": "stderr",
     "output_type": "stream",
     "text": [
      "[I 2023-07-22 20:00:07,459] Trial 22 finished with value: 0.9824561476707458 and parameters: {'num_layers': 3, 'num_units': 25, 'activation': 'sigmoid', 'optimizer': 'adam', 'epochs': 120}. Best is trial 9 with value: 0.9912280440330505.\n"
     ]
    },
    {
     "name": "stdout",
     "output_type": "stream",
     "text": [
      "4/4 [==============================] - 0s 3ms/step - loss: 0.0681 - accuracy: 0.9825\n"
     ]
    },
    {
     "name": "stderr",
     "output_type": "stream",
     "text": [
      "[I 2023-07-22 20:00:12,041] Trial 23 finished with value: 0.9824561476707458 and parameters: {'num_layers': 3, 'num_units': 19, 'activation': 'sigmoid', 'optimizer': 'adam', 'epochs': 141}. Best is trial 9 with value: 0.9912280440330505.\n"
     ]
    },
    {
     "name": "stdout",
     "output_type": "stream",
     "text": [
      "4/4 [==============================] - 0s 4ms/step - loss: 0.0718 - accuracy: 0.9825\n"
     ]
    },
    {
     "name": "stderr",
     "output_type": "stream",
     "text": [
      "[I 2023-07-22 20:00:15,394] Trial 24 finished with value: 0.9824561476707458 and parameters: {'num_layers': 3, 'num_units': 38, 'activation': 'sigmoid', 'optimizer': 'adam', 'epochs': 93}. Best is trial 9 with value: 0.9912280440330505.\n"
     ]
    },
    {
     "name": "stdout",
     "output_type": "stream",
     "text": [
      "4/4 [==============================] - 0s 3ms/step - loss: 0.0610 - accuracy: 0.9825\n"
     ]
    },
    {
     "name": "stderr",
     "output_type": "stream",
     "text": [
      "[I 2023-07-22 20:00:19,052] Trial 25 finished with value: 0.9824561476707458 and parameters: {'num_layers': 2, 'num_units': 31, 'activation': 'sigmoid', 'optimizer': 'adam', 'epochs': 112}. Best is trial 9 with value: 0.9912280440330505.\n"
     ]
    },
    {
     "name": "stdout",
     "output_type": "stream",
     "text": [
      "4/4 [==============================] - 0s 3ms/step - loss: 0.0561 - accuracy: 0.9825\n"
     ]
    },
    {
     "name": "stderr",
     "output_type": "stream",
     "text": [
      "[I 2023-07-22 20:00:21,599] Trial 26 finished with value: 0.9824561476707458 and parameters: {'num_layers': 1, 'num_units': 24, 'activation': 'tanh', 'optimizer': 'adam', 'epochs': 74}. Best is trial 9 with value: 0.9912280440330505.\n"
     ]
    },
    {
     "name": "stdout",
     "output_type": "stream",
     "text": [
      "4/4 [==============================] - 0s 4ms/step - loss: 0.0798 - accuracy: 0.9825\n"
     ]
    },
    {
     "name": "stderr",
     "output_type": "stream",
     "text": [
      "[I 2023-07-22 20:00:25,915] Trial 27 finished with value: 0.9824561476707458 and parameters: {'num_layers': 3, 'num_units': 17, 'activation': 'sigmoid', 'optimizer': 'adam', 'epochs': 136}. Best is trial 9 with value: 0.9912280440330505.\n"
     ]
    },
    {
     "name": "stdout",
     "output_type": "stream",
     "text": [
      "4/4 [==============================] - 0s 3ms/step - loss: 0.0550 - accuracy: 0.9825\n"
     ]
    },
    {
     "name": "stderr",
     "output_type": "stream",
     "text": [
      "[I 2023-07-22 20:00:29,333] Trial 28 finished with value: 0.9824561476707458 and parameters: {'num_layers': 2, 'num_units': 48, 'activation': 'sigmoid', 'optimizer': 'rmsprop', 'epochs': 94}. Best is trial 9 with value: 0.9912280440330505.\n"
     ]
    },
    {
     "name": "stdout",
     "output_type": "stream",
     "text": [
      "4/4 [==============================] - 0s 3ms/step - loss: 0.0537 - accuracy: 0.9825\n"
     ]
    },
    {
     "name": "stderr",
     "output_type": "stream",
     "text": [
      "[I 2023-07-22 20:00:31,738] Trial 29 finished with value: 0.9824561476707458 and parameters: {'num_layers': 2, 'num_units': 37, 'activation': 'tanh', 'optimizer': 'sgd', 'epochs': 64}. Best is trial 9 with value: 0.9912280440330505.\n"
     ]
    },
    {
     "name": "stdout",
     "output_type": "stream",
     "text": [
      "4/4 [==============================] - 0s 3ms/step - loss: 0.6391 - accuracy: 0.6228\n"
     ]
    },
    {
     "name": "stderr",
     "output_type": "stream",
     "text": [
      "[I 2023-07-22 20:00:35,314] Trial 30 finished with value: 0.6228070259094238 and parameters: {'num_layers': 3, 'num_units': 12, 'activation': 'sigmoid', 'optimizer': 'sgd', 'epochs': 116}. Best is trial 9 with value: 0.9912280440330505.\n"
     ]
    },
    {
     "name": "stdout",
     "output_type": "stream",
     "text": [
      "4/4 [==============================] - 0s 0s/step - loss: 0.0644 - accuracy: 0.9737\n"
     ]
    },
    {
     "name": "stderr",
     "output_type": "stream",
     "text": [
      "[I 2023-07-22 20:00:37,973] Trial 31 finished with value: 0.9736841917037964 and parameters: {'num_layers': 1, 'num_units': 17, 'activation': 'relu', 'optimizer': 'adam', 'epochs': 81}. Best is trial 9 with value: 0.9912280440330505.\n"
     ]
    },
    {
     "name": "stdout",
     "output_type": "stream",
     "text": [
      "4/4 [==============================] - 0s 3ms/step - loss: 0.0553 - accuracy: 0.9912\n"
     ]
    },
    {
     "name": "stderr",
     "output_type": "stream",
     "text": [
      "[I 2023-07-22 20:00:40,202] Trial 32 finished with value: 0.9912280440330505 and parameters: {'num_layers': 1, 'num_units': 22, 'activation': 'relu', 'optimizer': 'adam', 'epochs': 60}. Best is trial 9 with value: 0.9912280440330505.\n"
     ]
    },
    {
     "name": "stdout",
     "output_type": "stream",
     "text": [
      "4/4 [==============================] - 0s 3ms/step - loss: 0.0518 - accuracy: 0.9825\n"
     ]
    },
    {
     "name": "stderr",
     "output_type": "stream",
     "text": [
      "[I 2023-07-22 20:00:42,488] Trial 33 finished with value: 0.9824561476707458 and parameters: {'num_layers': 1, 'num_units': 23, 'activation': 'relu', 'optimizer': 'adam', 'epochs': 62}. Best is trial 9 with value: 0.9912280440330505.\n"
     ]
    },
    {
     "name": "stdout",
     "output_type": "stream",
     "text": [
      "4/4 [==============================] - 0s 0s/step - loss: 0.0603 - accuracy: 0.9825\n"
     ]
    },
    {
     "name": "stderr",
     "output_type": "stream",
     "text": [
      "[I 2023-07-22 20:00:45,577] Trial 34 finished with value: 0.9824561476707458 and parameters: {'num_layers': 1, 'num_units': 27, 'activation': 'relu', 'optimizer': 'adam', 'epochs': 77}. Best is trial 9 with value: 0.9912280440330505.\n"
     ]
    },
    {
     "name": "stdout",
     "output_type": "stream",
     "text": [
      "4/4 [==============================] - 0s 0s/step - loss: 0.0566 - accuracy: 0.9825\n"
     ]
    },
    {
     "name": "stderr",
     "output_type": "stream",
     "text": [
      "[I 2023-07-22 20:00:48,454] Trial 35 finished with value: 0.9824561476707458 and parameters: {'num_layers': 1, 'num_units': 21, 'activation': 'relu', 'optimizer': 'adam', 'epochs': 89}. Best is trial 9 with value: 0.9912280440330505.\n"
     ]
    },
    {
     "name": "stdout",
     "output_type": "stream",
     "text": [
      "4/4 [==============================] - 0s 0s/step - loss: 0.0658 - accuracy: 0.9737\n"
     ]
    },
    {
     "name": "stderr",
     "output_type": "stream",
     "text": [
      "[I 2023-07-22 20:00:50,582] Trial 36 finished with value: 0.9736841917037964 and parameters: {'num_layers': 1, 'num_units': 15, 'activation': 'relu', 'optimizer': 'adam', 'epochs': 56}. Best is trial 9 with value: 0.9912280440330505.\n"
     ]
    },
    {
     "name": "stdout",
     "output_type": "stream",
     "text": [
      "4/4 [==============================] - 0s 2ms/step - loss: 0.0780 - accuracy: 0.9825\n"
     ]
    },
    {
     "name": "stderr",
     "output_type": "stream",
     "text": [
      "[I 2023-07-22 20:00:54,286] Trial 37 finished with value: 0.9824561476707458 and parameters: {'num_layers': 1, 'num_units': 31, 'activation': 'relu', 'optimizer': 'rmsprop', 'epochs': 128}. Best is trial 9 with value: 0.9912280440330505.\n"
     ]
    },
    {
     "name": "stdout",
     "output_type": "stream",
     "text": [
      "4/4 [==============================] - 0s 0s/step - loss: 0.0850 - accuracy: 0.9649\n"
     ]
    },
    {
     "name": "stderr",
     "output_type": "stream",
     "text": [
      "[I 2023-07-22 20:00:56,657] Trial 38 finished with value: 0.9649122953414917 and parameters: {'num_layers': 1, 'num_units': 9, 'activation': 'relu', 'optimizer': 'sgd', 'epochs': 74}. Best is trial 9 with value: 0.9912280440330505.\n"
     ]
    },
    {
     "name": "stdout",
     "output_type": "stream",
     "text": [
      "4/4 [==============================] - 0s 3ms/step - loss: 0.0610 - accuracy: 0.9825\n"
     ]
    },
    {
     "name": "stderr",
     "output_type": "stream",
     "text": [
      "[I 2023-07-22 20:00:59,641] Trial 39 finished with value: 0.9824561476707458 and parameters: {'num_layers': 1, 'num_units': 14, 'activation': 'tanh', 'optimizer': 'adam', 'epochs': 96}. Best is trial 9 with value: 0.9912280440330505.\n"
     ]
    },
    {
     "name": "stdout",
     "output_type": "stream",
     "text": [
      "4/4 [==============================] - 0s 3ms/step - loss: 0.0676 - accuracy: 0.9825\n"
     ]
    },
    {
     "name": "stderr",
     "output_type": "stream",
     "text": [
      "[I 2023-07-22 20:01:04,030] Trial 40 finished with value: 0.9824561476707458 and parameters: {'num_layers': 2, 'num_units': 21, 'activation': 'sigmoid', 'optimizer': 'adam', 'epochs': 148}. Best is trial 9 with value: 0.9912280440330505.\n"
     ]
    },
    {
     "name": "stdout",
     "output_type": "stream",
     "text": [
      "4/4 [==============================] - 0s 5ms/step - loss: 0.0653 - accuracy: 0.9825\n"
     ]
    },
    {
     "name": "stderr",
     "output_type": "stream",
     "text": [
      "[I 2023-07-22 20:01:06,720] Trial 41 finished with value: 0.9824561476707458 and parameters: {'num_layers': 1, 'num_units': 26, 'activation': 'relu', 'optimizer': 'adam', 'epochs': 82}. Best is trial 9 with value: 0.9912280440330505.\n"
     ]
    },
    {
     "name": "stdout",
     "output_type": "stream",
     "text": [
      "4/4 [==============================] - 0s 3ms/step - loss: 0.0568 - accuracy: 0.9912\n"
     ]
    },
    {
     "name": "stderr",
     "output_type": "stream",
     "text": [
      "[I 2023-07-22 20:01:08,857] Trial 42 finished with value: 0.9912280440330505 and parameters: {'num_layers': 1, 'num_units': 20, 'activation': 'relu', 'optimizer': 'adam', 'epochs': 58}. Best is trial 9 with value: 0.9912280440330505.\n"
     ]
    },
    {
     "name": "stdout",
     "output_type": "stream",
     "text": [
      "4/4 [==============================] - 0s 3ms/step - loss: 0.0659 - accuracy: 0.9649\n"
     ]
    },
    {
     "name": "stderr",
     "output_type": "stream",
     "text": [
      "[I 2023-07-22 20:01:10,983] Trial 43 finished with value: 0.9649122953414917 and parameters: {'num_layers': 1, 'num_units': 22, 'activation': 'relu', 'optimizer': 'adam', 'epochs': 58}. Best is trial 9 with value: 0.9912280440330505.\n"
     ]
    },
    {
     "name": "stdout",
     "output_type": "stream",
     "text": [
      "4/4 [==============================] - 0s 0s/step - loss: 0.0672 - accuracy: 0.9737\n"
     ]
    },
    {
     "name": "stderr",
     "output_type": "stream",
     "text": [
      "[I 2023-07-22 20:01:13,435] Trial 44 finished with value: 0.9736841917037964 and parameters: {'num_layers': 1, 'num_units': 34, 'activation': 'relu', 'optimizer': 'adam', 'epochs': 71}. Best is trial 9 with value: 0.9912280440330505.\n"
     ]
    },
    {
     "name": "stdout",
     "output_type": "stream",
     "text": [
      "4/4 [==============================] - 0s 0s/step - loss: 0.0869 - accuracy: 0.9649\n"
     ]
    },
    {
     "name": "stderr",
     "output_type": "stream",
     "text": [
      "[I 2023-07-22 20:01:15,608] Trial 45 finished with value: 0.9649122953414917 and parameters: {'num_layers': 2, 'num_units': 30, 'activation': 'relu', 'optimizer': 'adam', 'epochs': 53}. Best is trial 9 with value: 0.9912280440330505.\n"
     ]
    },
    {
     "name": "stdout",
     "output_type": "stream",
     "text": [
      "4/4 [==============================] - 0s 0s/step - loss: 0.0862 - accuracy: 0.9649\n"
     ]
    },
    {
     "name": "stderr",
     "output_type": "stream",
     "text": [
      "[I 2023-07-22 20:01:17,465] Trial 46 finished with value: 0.9649122953414917 and parameters: {'num_layers': 1, 'num_units': 11, 'activation': 'tanh', 'optimizer': 'sgd', 'epochs': 50}. Best is trial 9 with value: 0.9912280440330505.\n"
     ]
    },
    {
     "name": "stdout",
     "output_type": "stream",
     "text": [
      "4/4 [==============================] - 0s 3ms/step - loss: 0.2169 - accuracy: 0.9561\n"
     ]
    },
    {
     "name": "stderr",
     "output_type": "stream",
     "text": [
      "[I 2023-07-22 20:01:22,257] Trial 47 finished with value: 0.9561403393745422 and parameters: {'num_layers': 2, 'num_units': 61, 'activation': 'relu', 'optimizer': 'adam', 'epochs': 166}. Best is trial 9 with value: 0.9912280440330505.\n"
     ]
    },
    {
     "name": "stdout",
     "output_type": "stream",
     "text": [
      "4/4 [==============================] - 0s 0s/step - loss: 0.0593 - accuracy: 0.9825\n"
     ]
    },
    {
     "name": "stderr",
     "output_type": "stream",
     "text": [
      "[I 2023-07-22 20:01:24,559] Trial 48 finished with value: 0.9824561476707458 and parameters: {'num_layers': 1, 'num_units': 8, 'activation': 'tanh', 'optimizer': 'rmsprop', 'epochs': 62}. Best is trial 9 with value: 0.9912280440330505.\n"
     ]
    },
    {
     "name": "stdout",
     "output_type": "stream",
     "text": [
      "4/4 [==============================] - 0s 2ms/step - loss: 0.0538 - accuracy: 0.9912\n"
     ]
    },
    {
     "name": "stderr",
     "output_type": "stream",
     "text": [
      "[I 2023-07-22 20:01:27,379] Trial 49 finished with value: 0.9912280440330505 and parameters: {'num_layers': 1, 'num_units': 39, 'activation': 'sigmoid', 'optimizer': 'adam', 'epochs': 86}. Best is trial 9 with value: 0.9912280440330505.\n"
     ]
    },
    {
     "name": "stdout",
     "output_type": "stream",
     "text": [
      "4/4 [==============================] - 0s 0s/step - loss: 0.0524 - accuracy: 0.9912\n"
     ]
    },
    {
     "name": "stderr",
     "output_type": "stream",
     "text": [
      "[I 2023-07-22 20:01:30,657] Trial 50 finished with value: 0.9912280440330505 and parameters: {'num_layers': 1, 'num_units': 53, 'activation': 'sigmoid', 'optimizer': 'adam', 'epochs': 87}. Best is trial 9 with value: 0.9912280440330505.\n"
     ]
    },
    {
     "name": "stdout",
     "output_type": "stream",
     "text": [
      "4/4 [==============================] - 0s 3ms/step - loss: 0.0541 - accuracy: 0.9912\n"
     ]
    },
    {
     "name": "stderr",
     "output_type": "stream",
     "text": [
      "[I 2023-07-22 20:01:33,436] Trial 51 finished with value: 0.9912280440330505 and parameters: {'num_layers': 1, 'num_units': 53, 'activation': 'sigmoid', 'optimizer': 'adam', 'epochs': 83}. Best is trial 9 with value: 0.9912280440330505.\n"
     ]
    },
    {
     "name": "stdout",
     "output_type": "stream",
     "text": [
      "4/4 [==============================] - 0s 3ms/step - loss: 0.0532 - accuracy: 0.9825\n"
     ]
    },
    {
     "name": "stderr",
     "output_type": "stream",
     "text": [
      "[I 2023-07-22 20:01:36,242] Trial 52 finished with value: 0.9824561476707458 and parameters: {'num_layers': 1, 'num_units': 49, 'activation': 'sigmoid', 'optimizer': 'adam', 'epochs': 85}. Best is trial 9 with value: 0.9912280440330505.\n"
     ]
    },
    {
     "name": "stdout",
     "output_type": "stream",
     "text": [
      "4/4 [==============================] - 0s 3ms/step - loss: 0.0545 - accuracy: 0.9912\n"
     ]
    },
    {
     "name": "stderr",
     "output_type": "stream",
     "text": [
      "[I 2023-07-22 20:01:38,655] Trial 53 finished with value: 0.9912280440330505 and parameters: {'num_layers': 1, 'num_units': 54, 'activation': 'sigmoid', 'optimizer': 'adam', 'epochs': 69}. Best is trial 9 with value: 0.9912280440330505.\n"
     ]
    },
    {
     "name": "stdout",
     "output_type": "stream",
     "text": [
      "4/4 [==============================] - 0s 3ms/step - loss: 0.0580 - accuracy: 0.9912\n"
     ]
    },
    {
     "name": "stderr",
     "output_type": "stream",
     "text": [
      "[I 2023-07-22 20:01:40,910] Trial 54 finished with value: 0.9912280440330505 and parameters: {'num_layers': 1, 'num_units': 47, 'activation': 'sigmoid', 'optimizer': 'adam', 'epochs': 61}. Best is trial 9 with value: 0.9912280440330505.\n"
     ]
    },
    {
     "name": "stdout",
     "output_type": "stream",
     "text": [
      "4/4 [==============================] - 0s 0s/step - loss: 0.0528 - accuracy: 0.9912\n"
     ]
    },
    {
     "name": "stderr",
     "output_type": "stream",
     "text": [
      "[I 2023-07-22 20:01:43,552] Trial 55 finished with value: 0.9912280440330505 and parameters: {'num_layers': 1, 'num_units': 57, 'activation': 'sigmoid', 'optimizer': 'adam', 'epochs': 77}. Best is trial 9 with value: 0.9912280440330505.\n"
     ]
    },
    {
     "name": "stdout",
     "output_type": "stream",
     "text": [
      "4/4 [==============================] - 0s 5ms/step - loss: 0.0534 - accuracy: 0.9825\n"
     ]
    },
    {
     "name": "stderr",
     "output_type": "stream",
     "text": [
      "[I 2023-07-22 20:01:46,699] Trial 56 finished with value: 0.9824561476707458 and parameters: {'num_layers': 1, 'num_units': 51, 'activation': 'sigmoid', 'optimizer': 'adam', 'epochs': 101}. Best is trial 9 with value: 0.9912280440330505.\n"
     ]
    },
    {
     "name": "stdout",
     "output_type": "stream",
     "text": [
      "4/4 [==============================] - 0s 3ms/step - loss: 0.0561 - accuracy: 0.9825\n"
     ]
    },
    {
     "name": "stderr",
     "output_type": "stream",
     "text": [
      "[I 2023-07-22 20:01:49,603] Trial 57 finished with value: 0.9824561476707458 and parameters: {'num_layers': 1, 'num_units': 43, 'activation': 'sigmoid', 'optimizer': 'adam', 'epochs': 90}. Best is trial 9 with value: 0.9912280440330505.\n"
     ]
    },
    {
     "name": "stdout",
     "output_type": "stream",
     "text": [
      "4/4 [==============================] - 0s 0s/step - loss: 0.0562 - accuracy: 0.9825\n"
     ]
    },
    {
     "name": "stderr",
     "output_type": "stream",
     "text": [
      "[I 2023-07-22 20:01:52,042] Trial 58 finished with value: 0.9824561476707458 and parameters: {'num_layers': 1, 'num_units': 56, 'activation': 'sigmoid', 'optimizer': 'adam', 'epochs': 70}. Best is trial 9 with value: 0.9912280440330505.\n"
     ]
    },
    {
     "name": "stdout",
     "output_type": "stream",
     "text": [
      "4/4 [==============================] - 0s 3ms/step - loss: 0.0574 - accuracy: 0.9912\n"
     ]
    },
    {
     "name": "stderr",
     "output_type": "stream",
     "text": [
      "[I 2023-07-22 20:01:54,161] Trial 59 finished with value: 0.9912280440330505 and parameters: {'num_layers': 1, 'num_units': 40, 'activation': 'sigmoid', 'optimizer': 'adam', 'epochs': 55}. Best is trial 9 with value: 0.9912280440330505.\n"
     ]
    },
    {
     "name": "stdout",
     "output_type": "stream",
     "text": [
      "4/4 [==============================] - 0s 0s/step - loss: 0.0502 - accuracy: 0.9912\n"
     ]
    },
    {
     "name": "stderr",
     "output_type": "stream",
     "text": [
      "[I 2023-07-22 20:01:56,540] Trial 60 finished with value: 0.9912280440330505 and parameters: {'num_layers': 1, 'num_units': 64, 'activation': 'sigmoid', 'optimizer': 'rmsprop', 'epochs': 66}. Best is trial 9 with value: 0.9912280440330505.\n"
     ]
    },
    {
     "name": "stdout",
     "output_type": "stream",
     "text": [
      "4/4 [==============================] - 0s 3ms/step - loss: 0.0554 - accuracy: 0.9912\n"
     ]
    },
    {
     "name": "stderr",
     "output_type": "stream",
     "text": [
      "[I 2023-07-22 20:01:59,025] Trial 61 finished with value: 0.9912280440330505 and parameters: {'num_layers': 1, 'num_units': 60, 'activation': 'sigmoid', 'optimizer': 'adam', 'epochs': 71}. Best is trial 9 with value: 0.9912280440330505.\n"
     ]
    },
    {
     "name": "stdout",
     "output_type": "stream",
     "text": [
      "4/4 [==============================] - 0s 0s/step - loss: 0.0540 - accuracy: 0.9912\n"
     ]
    },
    {
     "name": "stderr",
     "output_type": "stream",
     "text": [
      "[I 2023-07-22 20:02:01,676] Trial 62 finished with value: 0.9912280440330505 and parameters: {'num_layers': 1, 'num_units': 53, 'activation': 'sigmoid', 'optimizer': 'adam', 'epochs': 78}. Best is trial 9 with value: 0.9912280440330505.\n"
     ]
    },
    {
     "name": "stdout",
     "output_type": "stream",
     "text": [
      "4/4 [==============================] - 0s 3ms/step - loss: 0.0551 - accuracy: 0.9912\n"
     ]
    },
    {
     "name": "stderr",
     "output_type": "stream",
     "text": [
      "[I 2023-07-22 20:02:03,921] Trial 63 finished with value: 0.9912280440330505 and parameters: {'num_layers': 1, 'num_units': 54, 'activation': 'sigmoid', 'optimizer': 'adam', 'epochs': 59}. Best is trial 9 with value: 0.9912280440330505.\n"
     ]
    },
    {
     "name": "stdout",
     "output_type": "stream",
     "text": [
      "4/4 [==============================] - 0s 0s/step - loss: 0.0539 - accuracy: 0.9912\n"
     ]
    },
    {
     "name": "stderr",
     "output_type": "stream",
     "text": [
      "[I 2023-07-22 20:02:06,273] Trial 64 finished with value: 0.9912280440330505 and parameters: {'num_layers': 1, 'num_units': 50, 'activation': 'sigmoid', 'optimizer': 'adam', 'epochs': 66}. Best is trial 9 with value: 0.9912280440330505.\n"
     ]
    },
    {
     "name": "stdout",
     "output_type": "stream",
     "text": [
      "4/4 [==============================] - 0s 0s/step - loss: 0.0537 - accuracy: 0.9825\n"
     ]
    },
    {
     "name": "stderr",
     "output_type": "stream",
     "text": [
      "[I 2023-07-22 20:02:09,108] Trial 65 finished with value: 0.9824561476707458 and parameters: {'num_layers': 1, 'num_units': 59, 'activation': 'sigmoid', 'optimizer': 'adam', 'epochs': 86}. Best is trial 9 with value: 0.9912280440330505.\n"
     ]
    },
    {
     "name": "stdout",
     "output_type": "stream",
     "text": [
      "4/4 [==============================] - 0s 0s/step - loss: 0.0550 - accuracy: 0.9912\n"
     ]
    },
    {
     "name": "stderr",
     "output_type": "stream",
     "text": [
      "[I 2023-07-22 20:02:12,046] Trial 66 finished with value: 0.9912280440330505 and parameters: {'num_layers': 1, 'num_units': 45, 'activation': 'sigmoid', 'optimizer': 'adam', 'epochs': 73}. Best is trial 9 with value: 0.9912280440330505.\n"
     ]
    },
    {
     "name": "stdout",
     "output_type": "stream",
     "text": [
      "4/4 [==============================] - 0s 0s/step - loss: 0.1095 - accuracy: 0.9825\n"
     ]
    },
    {
     "name": "stderr",
     "output_type": "stream",
     "text": [
      "[I 2023-07-22 20:02:14,961] Trial 67 finished with value: 0.9824561476707458 and parameters: {'num_layers': 1, 'num_units': 51, 'activation': 'sigmoid', 'optimizer': 'sgd', 'epochs': 98}. Best is trial 9 with value: 0.9912280440330505.\n"
     ]
    },
    {
     "name": "stdout",
     "output_type": "stream",
     "text": [
      "4/4 [==============================] - 0s 5ms/step - loss: 0.0605 - accuracy: 0.9912\n"
     ]
    },
    {
     "name": "stderr",
     "output_type": "stream",
     "text": [
      "[I 2023-07-22 20:02:16,960] Trial 68 finished with value: 0.9912280440330505 and parameters: {'num_layers': 1, 'num_units': 46, 'activation': 'sigmoid', 'optimizer': 'adam', 'epochs': 50}. Best is trial 9 with value: 0.9912280440330505.\n"
     ]
    },
    {
     "name": "stdout",
     "output_type": "stream",
     "text": [
      "4/4 [==============================] - 0s 0s/step - loss: 0.1281 - accuracy: 0.9737\n"
     ]
    },
    {
     "name": "stderr",
     "output_type": "stream",
     "text": [
      "[I 2023-07-22 20:02:20,339] Trial 69 finished with value: 0.9736841917037964 and parameters: {'num_layers': 2, 'num_units': 55, 'activation': 'relu', 'optimizer': 'adam', 'epochs': 106}. Best is trial 9 with value: 0.9912280440330505.\n"
     ]
    },
    {
     "name": "stdout",
     "output_type": "stream",
     "text": [
      "4/4 [==============================] - 0s 3ms/step - loss: 0.0543 - accuracy: 0.9912\n"
     ]
    },
    {
     "name": "stderr",
     "output_type": "stream",
     "text": [
      "[I 2023-07-22 20:02:22,690] Trial 70 finished with value: 0.9912280440330505 and parameters: {'num_layers': 1, 'num_units': 41, 'activation': 'sigmoid', 'optimizer': 'adam', 'epochs': 67}. Best is trial 9 with value: 0.9912280440330505.\n"
     ]
    },
    {
     "name": "stdout",
     "output_type": "stream",
     "text": [
      "4/4 [==============================] - 0s 0s/step - loss: 0.0543 - accuracy: 0.9912\n"
     ]
    },
    {
     "name": "stderr",
     "output_type": "stream",
     "text": [
      "[I 2023-07-22 20:02:24,944] Trial 71 finished with value: 0.9912280440330505 and parameters: {'num_layers': 1, 'num_units': 48, 'activation': 'sigmoid', 'optimizer': 'adam', 'epochs': 62}. Best is trial 9 with value: 0.9912280440330505.\n"
     ]
    },
    {
     "name": "stdout",
     "output_type": "stream",
     "text": [
      "4/4 [==============================] - 0s 3ms/step - loss: 0.0582 - accuracy: 0.9912\n"
     ]
    },
    {
     "name": "stderr",
     "output_type": "stream",
     "text": [
      "[I 2023-07-22 20:02:27,138] Trial 72 finished with value: 0.9912280440330505 and parameters: {'num_layers': 1, 'num_units': 46, 'activation': 'sigmoid', 'optimizer': 'adam', 'epochs': 59}. Best is trial 9 with value: 0.9912280440330505.\n"
     ]
    },
    {
     "name": "stdout",
     "output_type": "stream",
     "text": [
      "4/4 [==============================] - 0s 3ms/step - loss: 0.0556 - accuracy: 0.9912\n"
     ]
    },
    {
     "name": "stderr",
     "output_type": "stream",
     "text": [
      "[I 2023-07-22 20:02:29,243] Trial 73 finished with value: 0.9912280440330505 and parameters: {'num_layers': 1, 'num_units': 53, 'activation': 'sigmoid', 'optimizer': 'adam', 'epochs': 55}. Best is trial 9 with value: 0.9912280440330505.\n"
     ]
    },
    {
     "name": "stdout",
     "output_type": "stream",
     "text": [
      "4/4 [==============================] - 0s 3ms/step - loss: 0.0607 - accuracy: 0.9825\n"
     ]
    },
    {
     "name": "stderr",
     "output_type": "stream",
     "text": [
      "[I 2023-07-22 20:02:31,902] Trial 74 finished with value: 0.9824561476707458 and parameters: {'num_layers': 1, 'num_units': 20, 'activation': 'sigmoid', 'optimizer': 'adam', 'epochs': 81}. Best is trial 9 with value: 0.9912280440330505.\n"
     ]
    },
    {
     "name": "stdout",
     "output_type": "stream",
     "text": [
      "4/4 [==============================] - 0s 0s/step - loss: 0.0553 - accuracy: 0.9912\n"
     ]
    },
    {
     "name": "stderr",
     "output_type": "stream",
     "text": [
      "[I 2023-07-22 20:02:34,449] Trial 75 finished with value: 0.9912280440330505 and parameters: {'num_layers': 1, 'num_units': 36, 'activation': 'sigmoid', 'optimizer': 'adam', 'epochs': 75}. Best is trial 9 with value: 0.9912280440330505.\n"
     ]
    },
    {
     "name": "stdout",
     "output_type": "stream",
     "text": [
      "4/4 [==============================] - 0s 0s/step - loss: 0.0567 - accuracy: 0.9825\n"
     ]
    },
    {
     "name": "stderr",
     "output_type": "stream",
     "text": [
      "[I 2023-07-22 20:02:36,697] Trial 76 finished with value: 0.9824561476707458 and parameters: {'num_layers': 1, 'num_units': 24, 'activation': 'relu', 'optimizer': 'adam', 'epochs': 62}. Best is trial 9 with value: 0.9912280440330505.\n"
     ]
    },
    {
     "name": "stdout",
     "output_type": "stream",
     "text": [
      "4/4 [==============================] - 0s 3ms/step - loss: 0.0507 - accuracy: 0.9912\n"
     ]
    },
    {
     "name": "stderr",
     "output_type": "stream",
     "text": [
      "[I 2023-07-22 20:02:39,701] Trial 77 finished with value: 0.9912280440330505 and parameters: {'num_layers': 1, 'num_units': 18, 'activation': 'sigmoid', 'optimizer': 'rmsprop', 'epochs': 90}. Best is trial 9 with value: 0.9912280440330505.\n"
     ]
    },
    {
     "name": "stdout",
     "output_type": "stream",
     "text": [
      "4/4 [==============================] - 0s 3ms/step - loss: 0.0543 - accuracy: 0.9737\n"
     ]
    },
    {
     "name": "stderr",
     "output_type": "stream",
     "text": [
      "[I 2023-07-22 20:02:42,434] Trial 78 finished with value: 0.9736841917037964 and parameters: {'num_layers': 1, 'num_units': 39, 'activation': 'relu', 'optimizer': 'adam', 'epochs': 83}. Best is trial 9 with value: 0.9912280440330505.\n"
     ]
    },
    {
     "name": "stdout",
     "output_type": "stream",
     "text": [
      "4/4 [==============================] - 0s 3ms/step - loss: 0.1357 - accuracy: 0.9649\n"
     ]
    },
    {
     "name": "stderr",
     "output_type": "stream",
     "text": [
      "[I 2023-07-22 20:02:44,716] Trial 79 finished with value: 0.9649122953414917 and parameters: {'num_layers': 1, 'num_units': 52, 'activation': 'sigmoid', 'optimizer': 'sgd', 'epochs': 69}. Best is trial 9 with value: 0.9912280440330505.\n"
     ]
    },
    {
     "name": "stdout",
     "output_type": "stream",
     "text": [
      "4/4 [==============================] - 0s 3ms/step - loss: 0.0713 - accuracy: 0.9912\n"
     ]
    },
    {
     "name": "stderr",
     "output_type": "stream",
     "text": [
      "[I 2023-07-22 20:02:47,002] Trial 80 finished with value: 0.9912280440330505 and parameters: {'num_layers': 2, 'num_units': 16, 'activation': 'sigmoid', 'optimizer': 'adam', 'epochs': 58}. Best is trial 9 with value: 0.9912280440330505.\n"
     ]
    },
    {
     "name": "stdout",
     "output_type": "stream",
     "text": [
      "4/4 [==============================] - 0s 3ms/step - loss: 0.0547 - accuracy: 0.9912\n"
     ]
    },
    {
     "name": "stderr",
     "output_type": "stream",
     "text": [
      "[I 2023-07-22 20:02:49,781] Trial 81 finished with value: 0.9912280440330505 and parameters: {'num_layers': 1, 'num_units': 57, 'activation': 'sigmoid', 'optimizer': 'adam', 'epochs': 78}. Best is trial 9 with value: 0.9912280440330505.\n"
     ]
    },
    {
     "name": "stdout",
     "output_type": "stream",
     "text": [
      "4/4 [==============================] - 0s 3ms/step - loss: 0.0534 - accuracy: 0.9912\n"
     ]
    },
    {
     "name": "stderr",
     "output_type": "stream",
     "text": [
      "[I 2023-07-22 20:02:52,583] Trial 82 finished with value: 0.9912280440330505 and parameters: {'num_layers': 1, 'num_units': 57, 'activation': 'sigmoid', 'optimizer': 'adam', 'epochs': 77}. Best is trial 9 with value: 0.9912280440330505.\n"
     ]
    },
    {
     "name": "stdout",
     "output_type": "stream",
     "text": [
      "4/4 [==============================] - 0s 3ms/step - loss: 0.0550 - accuracy: 0.9825\n"
     ]
    },
    {
     "name": "stderr",
     "output_type": "stream",
     "text": [
      "[I 2023-07-22 20:02:56,166] Trial 83 finished with value: 0.9824561476707458 and parameters: {'num_layers': 1, 'num_units': 62, 'activation': 'sigmoid', 'optimizer': 'adam', 'epochs': 93}. Best is trial 9 with value: 0.9912280440330505.\n"
     ]
    },
    {
     "name": "stdout",
     "output_type": "stream",
     "text": [
      "4/4 [==============================] - 0s 1ms/step - loss: 0.0566 - accuracy: 0.9912\n"
     ]
    },
    {
     "name": "stderr",
     "output_type": "stream",
     "text": [
      "[I 2023-07-22 20:02:58,598] Trial 84 finished with value: 0.9912280440330505 and parameters: {'num_layers': 1, 'num_units': 55, 'activation': 'sigmoid', 'optimizer': 'adam', 'epochs': 64}. Best is trial 9 with value: 0.9912280440330505.\n"
     ]
    },
    {
     "name": "stdout",
     "output_type": "stream",
     "text": [
      "4/4 [==============================] - 0s 0s/step - loss: 0.0675 - accuracy: 0.9737\n"
     ]
    },
    {
     "name": "stderr",
     "output_type": "stream",
     "text": [
      "[I 2023-07-22 20:03:01,163] Trial 85 finished with value: 0.9736841917037964 and parameters: {'num_layers': 1, 'num_units': 58, 'activation': 'relu', 'optimizer': 'adam', 'epochs': 73}. Best is trial 9 with value: 0.9912280440330505.\n"
     ]
    },
    {
     "name": "stdout",
     "output_type": "stream",
     "text": [
      "4/4 [==============================] - 0s 3ms/step - loss: 0.0590 - accuracy: 0.9912\n"
     ]
    },
    {
     "name": "stderr",
     "output_type": "stream",
     "text": [
      "[I 2023-07-22 20:03:03,413] Trial 86 finished with value: 0.9912280440330505 and parameters: {'num_layers': 1, 'num_units': 33, 'activation': 'sigmoid', 'optimizer': 'adam', 'epochs': 53}. Best is trial 9 with value: 0.9912280440330505.\n"
     ]
    },
    {
     "name": "stdout",
     "output_type": "stream",
     "text": [
      "4/4 [==============================] - 0s 23us/step - loss: 0.0559 - accuracy: 0.9912\n"
     ]
    },
    {
     "name": "stderr",
     "output_type": "stream",
     "text": [
      "[I 2023-07-22 20:03:06,335] Trial 87 finished with value: 0.9912280440330505 and parameters: {'num_layers': 1, 'num_units': 48, 'activation': 'sigmoid', 'optimizer': 'adam', 'epochs': 87}. Best is trial 9 with value: 0.9912280440330505.\n"
     ]
    },
    {
     "name": "stdout",
     "output_type": "stream",
     "text": [
      "4/4 [==============================] - 0s 3ms/step - loss: 0.0666 - accuracy: 0.9825\n"
     ]
    },
    {
     "name": "stderr",
     "output_type": "stream",
     "text": [
      "[I 2023-07-22 20:03:08,907] Trial 88 finished with value: 0.9824561476707458 and parameters: {'num_layers': 1, 'num_units': 26, 'activation': 'relu', 'optimizer': 'adam', 'epochs': 70}. Best is trial 9 with value: 0.9912280440330505.\n"
     ]
    },
    {
     "name": "stdout",
     "output_type": "stream",
     "text": [
      "4/4 [==============================] - 0s 3ms/step - loss: 0.0663 - accuracy: 0.9825\n"
     ]
    },
    {
     "name": "stderr",
     "output_type": "stream",
     "text": [
      "[I 2023-07-22 20:03:12,233] Trial 89 finished with value: 0.9824561476707458 and parameters: {'num_layers': 3, 'num_units': 42, 'activation': 'sigmoid', 'optimizer': 'adam', 'epochs': 79}. Best is trial 9 with value: 0.9912280440330505.\n"
     ]
    },
    {
     "name": "stdout",
     "output_type": "stream",
     "text": [
      "4/4 [==============================] - 0s 3ms/step - loss: 0.0555 - accuracy: 0.9825\n"
     ]
    },
    {
     "name": "stderr",
     "output_type": "stream",
     "text": [
      "[I 2023-07-22 20:03:14,739] Trial 90 finished with value: 0.9824561476707458 and parameters: {'num_layers': 1, 'num_units': 28, 'activation': 'sigmoid', 'optimizer': 'rmsprop', 'epochs': 64}. Best is trial 9 with value: 0.9912280440330505.\n"
     ]
    },
    {
     "name": "stdout",
     "output_type": "stream",
     "text": [
      "4/4 [==============================] - 0s 0s/step - loss: 0.0562 - accuracy: 0.9912\n"
     ]
    },
    {
     "name": "stderr",
     "output_type": "stream",
     "text": [
      "[I 2023-07-22 20:03:17,023] Trial 91 finished with value: 0.9912280440330505 and parameters: {'num_layers': 1, 'num_units': 39, 'activation': 'sigmoid', 'optimizer': 'adam', 'epochs': 57}. Best is trial 9 with value: 0.9912280440330505.\n"
     ]
    },
    {
     "name": "stdout",
     "output_type": "stream",
     "text": [
      "4/4 [==============================] - 0s 2ms/step - loss: 0.0569 - accuracy: 0.9912\n"
     ]
    },
    {
     "name": "stderr",
     "output_type": "stream",
     "text": [
      "[I 2023-07-22 20:03:19,202] Trial 92 finished with value: 0.9912280440330505 and parameters: {'num_layers': 1, 'num_units': 40, 'activation': 'sigmoid', 'optimizer': 'adam', 'epochs': 54}. Best is trial 9 with value: 0.9912280440330505.\n"
     ]
    },
    {
     "name": "stdout",
     "output_type": "stream",
     "text": [
      "4/4 [==============================] - 0s 3ms/step - loss: 0.0518 - accuracy: 0.9912\n"
     ]
    },
    {
     "name": "stderr",
     "output_type": "stream",
     "text": [
      "[I 2023-07-22 20:03:21,692] Trial 93 finished with value: 0.9912280440330505 and parameters: {'num_layers': 1, 'num_units': 55, 'activation': 'sigmoid', 'optimizer': 'adam', 'epochs': 67}. Best is trial 9 with value: 0.9912280440330505.\n"
     ]
    },
    {
     "name": "stdout",
     "output_type": "stream",
     "text": [
      "4/4 [==============================] - 0s 3ms/step - loss: 0.0564 - accuracy: 0.9912\n"
     ]
    },
    {
     "name": "stderr",
     "output_type": "stream",
     "text": [
      "[I 2023-07-22 20:03:24,012] Trial 94 finished with value: 0.9912280440330505 and parameters: {'num_layers': 1, 'num_units': 35, 'activation': 'sigmoid', 'optimizer': 'adam', 'epochs': 60}. Best is trial 9 with value: 0.9912280440330505.\n"
     ]
    },
    {
     "name": "stdout",
     "output_type": "stream",
     "text": [
      "4/4 [==============================] - 0s 3ms/step - loss: 0.0611 - accuracy: 0.9912\n"
     ]
    },
    {
     "name": "stderr",
     "output_type": "stream",
     "text": [
      "[I 2023-07-22 20:03:26,183] Trial 95 finished with value: 0.9912280440330505 and parameters: {'num_layers': 1, 'num_units': 37, 'activation': 'sigmoid', 'optimizer': 'adam', 'epochs': 53}. Best is trial 9 with value: 0.9912280440330505.\n"
     ]
    },
    {
     "name": "stdout",
     "output_type": "stream",
     "text": [
      "4/4 [==============================] - 0s 0s/step - loss: 0.0630 - accuracy: 0.9825\n"
     ]
    },
    {
     "name": "stderr",
     "output_type": "stream",
     "text": [
      "[I 2023-07-22 20:03:28,822] Trial 96 finished with value: 0.9824561476707458 and parameters: {'num_layers': 1, 'num_units': 47, 'activation': 'tanh', 'optimizer': 'adam', 'epochs': 75}. Best is trial 9 with value: 0.9912280440330505.\n"
     ]
    },
    {
     "name": "stdout",
     "output_type": "stream",
     "text": [
      "4/4 [==============================] - 0s 3ms/step - loss: 0.0861 - accuracy: 0.9825\n"
     ]
    },
    {
     "name": "stderr",
     "output_type": "stream",
     "text": [
      "[I 2023-07-22 20:03:31,250] Trial 97 finished with value: 0.9824561476707458 and parameters: {'num_layers': 2, 'num_units': 44, 'activation': 'relu', 'optimizer': 'adam', 'epochs': 61}. Best is trial 9 with value: 0.9912280440330505.\n"
     ]
    },
    {
     "name": "stdout",
     "output_type": "stream",
     "text": [
      "4/4 [==============================] - 0s 0s/step - loss: 0.1396 - accuracy: 0.9649\n"
     ]
    },
    {
     "name": "stderr",
     "output_type": "stream",
     "text": [
      "[I 2023-07-22 20:03:33,490] Trial 98 finished with value: 0.9649122953414917 and parameters: {'num_layers': 1, 'num_units': 50, 'activation': 'sigmoid', 'optimizer': 'sgd', 'epochs': 65}. Best is trial 9 with value: 0.9912280440330505.\n"
     ]
    },
    {
     "name": "stdout",
     "output_type": "stream",
     "text": [
      "4/4 [==============================] - 0s 0s/step - loss: 0.0664 - accuracy: 0.9912\n"
     ]
    },
    {
     "name": "stderr",
     "output_type": "stream",
     "text": [
      "[I 2023-07-22 20:03:35,454] Trial 99 finished with value: 0.9912280440330505 and parameters: {'num_layers': 1, 'num_units': 21, 'activation': 'sigmoid', 'optimizer': 'adam', 'epochs': 50}. Best is trial 9 with value: 0.9912280440330505.\n"
     ]
    }
   ],
   "source": [
    "study = optuna.create_study(direction='maximize')\n",
    "study.optimize(objective, n_trials=100)"
   ]
  },
  {
   "cell_type": "code",
   "execution_count": 28,
   "id": "3f1ab166-4be9-4365-a5e1-18a3766b3b6d",
   "metadata": {},
   "outputs": [
    {
     "name": "stdout",
     "output_type": "stream",
     "text": [
      "4/4 [==============================] - 0s 0s/step\n",
      "Confusion matrix:\n",
      "[[42  1]\n",
      " [ 0 71]]               precision    recall  f1-score   support\n",
      "\n",
      "           0       1.00      0.98      0.99        43\n",
      "           1       0.99      1.00      0.99        71\n",
      "\n",
      "    accuracy                           0.99       114\n",
      "   macro avg       0.99      0.99      0.99       114\n",
      "weighted avg       0.99      0.99      0.99       114\n",
      " 0.9912280701754386\n"
     ]
    }
   ],
   "source": [
    "# en iyi parametre ile tekrar fit et\n",
    "num_layers = 1\n",
    "num_units = 21\n",
    "activation = 'sigmoid'\n",
    "optimizer = 'adam'\n",
    "epochs = 50\n",
    "\n",
    "model = Sequential()\n",
    "model.add(Dense(num_units, input_dim=30, activation=activation))\n",
    "for i in range(num_layers - 1):\n",
    "    model.add(Dense(num_units, activation=activation))\n",
    "model.add(Dense(1, activation='sigmoid'))\n",
    "\n",
    "model.compile(loss='binary_crossentropy', optimizer=optimizer, metrics=['accuracy'])\n",
    "\n",
    "model.fit(X_train, y_train, epochs=epochs, batch_size=32, verbose=0)\n",
    "\n",
    "y_pred = model.predict(X_test)\n",
    "y_pred = (y_pred > 0.5).astype(int) \n",
    "\n",
    "accuracy_y = accuracy_score(y_test, y_pred)\n",
    "cm_y = confusion_matrix(y_test, y_pred)\n",
    "cr_y = classification_report(y_test, y_pred)\n",
    "print('Confusion matrix:')\n",
    "print(cm_y, cr_y, accuracy_y)"
   ]
  },
  {
   "cell_type": "markdown",
   "id": "cc1953cf-6459-45c8-8e6c-5c4a6d6b408a",
   "metadata": {},
   "source": [
    "### Değerlendirme\n",
    "\n",
    "Bu veri seti üzerinde denenen bütün algoritmalar yüksek başarım verdi. Üstelik target değişkeninde ufak bir dengesizlik olmasına rağmen bu sonuçlara ulaşıldı. Buradan veri setindeki özniteliklerin target değişkenini çok iyi açıkladığı söylenebilir.\n",
    "\n",
    "Standart parametreler ile eğitilmiş modeller arasında SVM ve Logistic Regression algoritmaları çok iyi tahmin scorları çıkarırlarken, Optuna ile hiperparametre tuning yaptığımız yapay sinir ağı modeli neredeyse %100 doğruluk oranına kadar erişebildi."
   ]
  }
 ],
 "metadata": {
  "kernelspec": {
   "display_name": "Python 3 (ipykernel)",
   "language": "python",
   "name": "python3"
  },
  "language_info": {
   "codemirror_mode": {
    "name": "ipython",
    "version": 3
   },
   "file_extension": ".py",
   "mimetype": "text/x-python",
   "name": "python",
   "nbconvert_exporter": "python",
   "pygments_lexer": "ipython3",
   "version": "3.9.16"
  }
 },
 "nbformat": 4,
 "nbformat_minor": 5
}
