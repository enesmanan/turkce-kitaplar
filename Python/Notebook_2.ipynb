{
 "cells": [
  {
   "cell_type": "markdown",
   "id": "80890a0c-3604-4f2d-8e7c-a7617a203233",
   "metadata": {},
   "source": [
    "# Nesne Tabanlı Programlama (Object Oriented Programming-OOP)\n",
    "\n",
    "## Sınıf (Class) Yapısı"
   ]
  },
  {
   "cell_type": "markdown",
   "id": "6faefaa4-f3ed-4151-8039-34b29705e718",
   "metadata": {},
   "source": [
    "**Sınıflar, nesne üretmemizi sağlayan veri tipleridir. Sınıflar, bir 'şablon' veya 'taslak' olarak düşünülebilir ve bu şablonu kullanarak farklı nesneler oluşturulabilir.**\n",
    "\n",
    "Class kullanmanın avantajları:\n",
    "+ Kodun yeniden kullanılabilirliğini artırır.\n",
    "+ Kodun okunabilirliğini artırır.\n",
    "+ Kodun bakımını kolaylaştırır.\n",
    "+ Kodun karmaşıklığını azaltır.\n",
    "\n",
    "> *Bir programcının görevi yalnızca çalışan kodlar yazmak değildir. Programcı aynı zamanda kodlarının okunaklılığını artırmak ve bakımını kolaylaştırmakla da yükümlüdür.*"
   ]
  },
  {
   "cell_type": "markdown",
   "id": "018fef65-94be-4863-a1b6-5c6d665db2aa",
   "metadata": {},
   "source": [
    "## Sınıf Metotları:\n",
    "### 1. Sınıflar (Classes) \n",
    "+ **Büyük harfle tanımlanırlar**"
   ]
  },
  {
   "cell_type": "markdown",
   "id": "6f3de465-8a8d-4a13-98c8-b348bcce8c4a",
   "metadata": {},
   "source": [
    "### 2. Sınıf Nitelikleri (Class Attribute)\n",
    "+ **Sınıf tanımlandıktan sonra sınıf nitelikleri (class attribute) tanımlanabilir ve üzerlerinde değişiklik yapılırsa tüm nesneler için geçerli bir değişim olmuş olur.**\n",
    "    + Sınıf niteliklerine erişmek için sınıf adını parantezsiz olarak kullanılır. $\\to$ `SuperKahraman.evren` "
   ]
  },
  {
   "cell_type": "markdown",
   "id": "2abbe3c7-83f0-4331-86a0-cde058150587",
   "metadata": {},
   "source": [
    "### 3. Örnekler (Instances) ve Örnek Nitelikleri (Instances Attributes)\n",
    "+ **Sınıflardan yeni nesneler (objects) oluşturabiliriz ve bu nesneler, sınıfın örnekleri (instances) olarak adlandırılırlar.**\n",
    "    + Sınıfların örneklenmesi, bir sınıfın yapıcı metotu olan `__init__(self):` fonksiyonu ile gerçekleştirilir. \n",
    "    + Bu fonksiyon, bir sınıftan nesne türetildiğinde otomatik olarak çağrılır ve sınıfın özelliklerine başlangıç değerlerini atar.\n",
    "    + Örnek niteliği (instance attributes), self kelimesini kullanarak tanımlanır. Örneğin, `self.ad = ad` ifadesi, sınıfın her bir örneğinin ad özniteliğini tanımlar.\n",
    "    + Örnek nitelikleri sadece fonksiyonlar içerisinde tanımlanabilir. "
   ]
  },
  {
   "cell_type": "markdown",
   "id": "73173712-e0fd-43ff-af8a-70f8bf680239",
   "metadata": {},
   "source": [
    "### 4. Örnek Metotları (Instance Methods)\n",
    "+ **Sınıfların örnekleri tarafından kullanılan örnek metotları (instance methods) olabilir.**\n",
    "    + Bu metotlar bir sınıfın örnekleri vasıtasıyla çağırılabilen fonksiyonlardır.\n",
    "    + Bu fonksiyonların ilk parametresi her zaman self kelimesidir.\n",
    "    + Örneğin, `donusum(self):` ve `saldir(self):`"
   ]
  },
  {
   "cell_type": "markdown",
   "id": "9abbd027-2efc-453e-93d8-906b1ceff6ba",
   "metadata": {},
   "source": [
    "## Örnek: SuperKahraman Sınıfı"
   ]
  },
  {
   "cell_type": "code",
   "execution_count": 1,
   "id": "5e801ef8-f811-4344-b8bf-9e25b08d7d35",
   "metadata": {
    "tags": []
   },
   "outputs": [],
   "source": [
    "class SuperKahraman:\n",
    "    evren = 'DC'\n",
    "    \n",
    "    def __init__(self, ad, zirh, silahlar, guc):\n",
    "        self.ad = ad\n",
    "        self.zirh = zirh\n",
    "        self.silahlar = silahlar\n",
    "        self.guc = guc\n",
    "        self.durum = 'Normal'\n",
    "\n",
    "    def donusum(self):\n",
    "        if self.durum == 'Normal':\n",
    "            self.durum = 'Super Kahraman'\n",
    "            return f'{self.ad}, donusum gerceklestirdi! Artik {self.durum} olarak hareket ediyor.'\n",
    "        elif self.durum == 'Super Kahraman':\n",
    "            self.durum = 'Normal'\n",
    "            return f'{self.ad}, donusum gerceklestirdi! Artik {self.durum} olarak hareket ediyor.'\n",
    "\n",
    "    def saldir(self, hedef):\n",
    "        return f'{self.ad}, {hedef} uzerine saldiri gerceklestirildi!'\n"
   ]
  },
  {
   "cell_type": "markdown",
   "id": "62a1c0b0-9456-46b7-98ac-118d9aefcd1b",
   "metadata": {},
   "source": [
    "+ Class $\\to$ SuperKahraman\n",
    "+ Class Attributes $\\to$ evren\n",
    "+ Instance Attributes $\\to$ ad, zirh, silahlar, guc, durum\n",
    "+ Instance Methods $\\to$ donusum(), saldir()"
   ]
  },
  {
   "cell_type": "code",
   "execution_count": 2,
   "id": "2b6ff896-962d-41c4-9d2c-93d83558d8d5",
   "metadata": {},
   "outputs": [
    {
     "data": {
      "text/plain": [
       "'DC'"
      ]
     },
     "execution_count": 2,
     "metadata": {},
     "output_type": "execute_result"
    }
   ],
   "source": [
    "# Sinif niteliklerine erismek icin sinif adini parantezsiz olarak kullandık\n",
    "SuperKahraman.evren"
   ]
  },
  {
   "cell_type": "code",
   "execution_count": 3,
   "id": "9a96e26f-74ea-4239-b2a9-eb8fa548c15f",
   "metadata": {},
   "outputs": [],
   "source": [
    "# SuperKahraman sinifindan yeni bir örnek olusturalim\n",
    "# Batman nesnesi olusturalim\n",
    "batman = SuperKahraman('Batman', 'Batsuit', ['Batarang', 'Batmobile'], 'Zeka ve Fiziksel Beceriler')"
   ]
  },
  {
   "cell_type": "markdown",
   "id": "61661c58-1bc3-48b6-9b9b-fccd204760ab",
   "metadata": {},
   "source": [
    "SuperKahraman sınıfından yeni bir örnek oluşturmak için, sınıfın adını ve parantez içinde sınıfın `__init__` fonksiyonuna gönderilecek parametreleri girerek sınıfı çağırırız."
   ]
  },
  {
   "cell_type": "code",
   "execution_count": 4,
   "id": "76786f82-86ed-4a4e-9ca0-e6653d79d5bd",
   "metadata": {},
   "outputs": [
    {
     "name": "stdout",
     "output_type": "stream",
     "text": [
      "Batman, zirh: Batsuit, Silahlar: Batarang, Batmobile, guc: Zeka ve Fiziksel Beceriler\n",
      "Batman, donusum gerceklestirdi! Artik Super Kahraman olarak hareket ediyor.\n",
      "Batman, Joker uzerine saldiri gerceklestirildi!\n",
      "Batman, donusum gerceklestirdi! Artik Normal olarak hareket ediyor.\n"
     ]
    }
   ],
   "source": [
    "# Batman'in ozelliklerine eriselim ardindan donusum ve saldiri yeteneklerini cagiralim\n",
    "print(f'{batman.ad}, zirh: {batman.zirh}, Silahlar: {\", \".join(batman.silahlar)}, guc: {batman.guc}')\n",
    "print(batman.donusum())\n",
    "print(batman.saldir('Joker'))\n",
    "print(batman.donusum())"
   ]
  }
 ],
 "metadata": {
  "kernelspec": {
   "display_name": "Python 3 (ipykernel)",
   "language": "python",
   "name": "python3"
  },
  "language_info": {
   "codemirror_mode": {
    "name": "ipython",
    "version": 3
   },
   "file_extension": ".py",
   "mimetype": "text/x-python",
   "name": "python",
   "nbconvert_exporter": "python",
   "pygments_lexer": "ipython3",
   "version": "3.9.16"
  }
 },
 "nbformat": 4,
 "nbformat_minor": 5
}
