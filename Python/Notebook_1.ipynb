{
 "cells": [
  {
   "cell_type": "markdown",
   "id": "5c3652dc-07e9-4249-a40e-63dbab046459",
   "metadata": {},
   "source": [
    "## `if __name__ == '__main__'`"
   ]
  },
  {
   "cell_type": "markdown",
   "id": "cacbe8ae-4b9c-4a37-a9c0-ad1bbbb575a8",
   "metadata": {},
   "source": [
    "Python'da `if __name__ == '__main__'` yapısı, bir Python dosyasının modül olarak mı yoksa ana program olarak mı kullanıldığını kontrol etmek için kullanılır. \n",
    "\n",
    "**Direkt olarak çalışırdığımızda:**\n",
    "+ Eğer .py uzantılı dosyayı direkt olarak çalıştırılırsa `__name__`değeri default olarak `__main__` olduğundan dolayı `if __name__ == '__main__'` yapısının altında bulunan kodlar otomatik olarak çalışacaktır.\n",
    "\n",
    "**Modül olarak içeri aktardığımızda**\n",
    "+ Eğer .py uzantılı dosya import komutu ile içe aktarılırsa modüldeki tüm kodlar çalıştırılmaz, yalnızca tanımlanan sınıflar, fonksiyonlar, değişkenler vb. kullanılabilir hale gelir."
   ]
  },
  {
   "cell_type": "markdown",
   "id": "5104155d-6d3d-4ae0-b4ab-51004be787ce",
   "metadata": {},
   "source": [
    "> **`if __name__ == '__main__'` Yapısı Olmadan**"
   ]
  },
  {
   "cell_type": "markdown",
   "id": "6a43b7a6-0e47-4556-8e6a-a52faefd42f2",
   "metadata": {},
   "source": [
    "Bunu daha iyi görmek için aşağıdaki kod parçacığını ele alalım.\n",
    "\n",
    "Bu kodu direkt olarak çalıştırdığımızda program bize 6 adet unique değer verecektir.  "
   ]
  },
  {
   "cell_type": "code",
   "execution_count": 1,
   "id": "19e7899e-5b19-4f81-a058-cc73d653f56f",
   "metadata": {},
   "outputs": [
    {
     "name": "stdout",
     "output_type": "stream",
     "text": [
      "Lotoyu kazanan sayilar: [3, 46, 4, 38, 49, 16]\n"
     ]
    }
   ],
   "source": [
    "from random import sample\n",
    "# sample unique degerler uretir\n",
    "\n",
    "def loto_sayilarini_uret(min_sayi, max_sayi, adet):\n",
    "    return sample(range(min_sayi, max_sayi + 1), adet)\n",
    "\n",
    "def main():\n",
    "    min_sayi = 1\n",
    "    max_sayi = 49\n",
    "    adet = 6\n",
    "    sayilar = loto_sayilarini_uret(min_sayi, max_sayi, adet)\n",
    "    #sayilar.sort()\n",
    "    print('Lotoyu kazanan sayilar:', sayilar)\n",
    "    \n",
    "main()"
   ]
  },
  {
   "cell_type": "markdown",
   "id": "0bca6e9f-96cf-445e-bf1a-adf344ac6c74",
   "metadata": {},
   "source": [
    "Şimdi bu kodu **[sayisal_loto.py](https://github.com/enesmanan/turkce-kitaplar/blob/main/Veri%20Bilimi%20%C4%B0%C3%A7in%20Python/sayisal_loto.py)** isimli bir python dosyasına kaydettiğimizi düşünelim.\n",
    "\n",
    "Şimdi de bu dosyayı içe aktaralım ve ne olduğuna bakalım."
   ]
  },
  {
   "cell_type": "code",
   "execution_count": 2,
   "id": "195d1b83-1bb2-4be7-92bf-cedce9206a3b",
   "metadata": {},
   "outputs": [
    {
     "name": "stdout",
     "output_type": "stream",
     "text": [
      "Lotoyu kazanan sayilar: [47, 1, 5, 42, 26, 16]\n"
     ]
    }
   ],
   "source": [
    "import sayisal_loto"
   ]
  },
  {
   "cell_type": "markdown",
   "id": "a3fe654d-266f-472f-b9a9-ab78a44edb96",
   "metadata": {},
   "source": [
    "Görüldüğü gibi program import ettiğimiz gibi baştan aşağı tüm kodları çalıştırdı ve ekrana 6 tane unique değer bastı."
   ]
  },
  {
   "cell_type": "markdown",
   "id": "9aaa31ed-88ee-4455-80c3-62673e4a3a02",
   "metadata": {},
   "source": [
    "> **`if __name__ == '__main__'` Yapısı İle**"
   ]
  },
  {
   "cell_type": "markdown",
   "id": "f1851626-189b-4eab-9786-b694931dfe95",
   "metadata": {},
   "source": [
    "Eğer programa `if __name__ == '__main__'` yapısını eklersek ne olduğuna bakalım."
   ]
  },
  {
   "cell_type": "code",
   "execution_count": 3,
   "id": "4e16c8b7-04fa-48f3-892a-744d9f2aa8e2",
   "metadata": {},
   "outputs": [
    {
     "name": "stdout",
     "output_type": "stream",
     "text": [
      "Lotoyu kazanan sayilar: [19, 38, 33, 26, 10, 17]\n"
     ]
    }
   ],
   "source": [
    "from random import sample\n",
    "# sample unique degerler uretir\n",
    "\n",
    "def loto_sayilarini_uret(min_sayi, max_sayi, adet):\n",
    "    return sample(range(min_sayi, max_sayi + 1), adet)\n",
    "\n",
    "def main():\n",
    "    min_sayi = 1\n",
    "    max_sayi = 49\n",
    "    adet = 6\n",
    "    sayilar = loto_sayilarini_uret(min_sayi, max_sayi, adet)\n",
    "    #sayilar.sort()\n",
    "    print('Lotoyu kazanan sayilar:', sayilar)\n",
    "\n",
    "if __name__ == '__main__':\n",
    "    main()"
   ]
  },
  {
   "cell_type": "markdown",
   "id": "bcf44fc1-3a54-4550-8705-cab89164c472",
   "metadata": {},
   "source": [
    "Bu kodu direkt olarak çalıştırdığımızda `__name__` değeri default olarak `__main__`'e eşit olduğundan dolayı program bize 6 adet unique değer verecektir. "
   ]
  },
  {
   "cell_type": "markdown",
   "id": "95685092-652f-4f71-950d-9901b1e895c2",
   "metadata": {},
   "source": [
    "Peki bu kodu **sayisal_loto.py** isimli dosyadan import edersek ne olacak?"
   ]
  },
  {
   "cell_type": "code",
   "execution_count": 4,
   "id": "632cd8d5-2128-4190-b170-25322882df41",
   "metadata": {},
   "outputs": [],
   "source": [
    "import sayisal_loto"
   ]
  },
  {
   "cell_type": "markdown",
   "id": "4a6a78cd-e2d6-4be3-846b-74aaebddf421",
   "metadata": {},
   "source": [
    "Görüldüğü gibi bu sefer dosyayı import ettiğimizde programın `if __name__ == '__main__':` yapısı altında bulunan kodlar çalıştırılmadı. Bunun sebebi artık `__name__` yapısının değerinin `__main__`'e eşit olmamasıdır. `__name__` yapısının yeni değeri import ettiğimiz dosyanın adı olmuştur. Yani bu senaryoda **sayisal_loto**  `__name__` değerine eşit olmuştur."
   ]
  },
  {
   "cell_type": "markdown",
   "id": "e48818e5-dce1-4479-ba94-63e878aa7156",
   "metadata": {},
   "source": [
    "Şuan sadece dosyadaki fonksiyonlar kullanılabilir hale geldi. \n",
    "\n",
    "Eğer bunları kullanmak istersek çağırmamız gerekecek."
   ]
  },
  {
   "cell_type": "code",
   "execution_count": 5,
   "id": "61ddad00-9f8e-4ae1-8706-7924784c5926",
   "metadata": {},
   "outputs": [
    {
     "name": "stdout",
     "output_type": "stream",
     "text": [
      "Lotoyu kazanan sayilar: [14, 10, 20, 41, 45, 44]\n"
     ]
    }
   ],
   "source": [
    "import sayisal_loto\n",
    "\n",
    "loto = sayisal_loto.main()\n",
    "\n",
    "loto"
   ]
  },
  {
   "cell_type": "markdown",
   "id": "6e84beeb-4d5b-45be-b25f-80cbcf84ec1a",
   "metadata": {},
   "source": [
    "Bu yapıyı kullanarak, bir Python dosyasının hem modül olarak başka bir programda içe aktarıldığında kullanılabilmesini sağlayabilir hem de aynı dosyanın doğrudan çalıştırıldığında farklı bir işlevi yerine getirmesini sağlayabiliriz."
   ]
  },
  {
   "cell_type": "markdown",
   "id": "547658ef-665d-4cd1-9c8e-ba47eacd0f94",
   "metadata": {},
   "source": [
    "### Avantajları\n",
    "+ Modül olarak kullanıldığında, dosyanın kodlarının yanlışlıkla çalıştırılması önlenir. Eğer bir dosya bir modül olarak başka bir dosyada kullanılıyorsa, `if __name__ == '__main__':` bloğu içindeki kodlar çalışmayacaktır. Böylece, modül olarak kullanılan dosyaların yanlışlıkla yan etki oluşturacak kodlar içermesi engellenir.\n",
    "+ Ana program olarak kullanıldığında, dosyanın test edilmesini sağlar. `if __name__ == '__main__':` bloğu içindeki kodlar, dosyanın doğrudan çalıştırıldığı zaman çalışacak ek işlemler veya test kodları olarak kullanılabilir. Böylece, dosyanın doğru şekilde çalıştığını test etmek için ayrı bir test dosyası yazmaya gerek kalmaz.\n",
    "\n",
    "### Dezavantajları\n",
    "+ Kodun karmaşıklığını artırabilir ve bazen gereksiz olabilir."
   ]
  }
 ],
 "metadata": {
  "kernelspec": {
   "display_name": "Python 3 (ipykernel)",
   "language": "python",
   "name": "python3"
  },
  "language_info": {
   "codemirror_mode": {
    "name": "ipython",
    "version": 3
   },
   "file_extension": ".py",
   "mimetype": "text/x-python",
   "name": "python",
   "nbconvert_exporter": "python",
   "pygments_lexer": "ipython3",
   "version": "3.9.16"
  }
 },
 "nbformat": 4,
 "nbformat_minor": 5
}
