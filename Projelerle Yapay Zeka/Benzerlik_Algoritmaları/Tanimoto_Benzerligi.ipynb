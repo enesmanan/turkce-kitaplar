{
 "cells": [
  {
   "cell_type": "markdown",
   "id": "ae11b079-d826-4322-ba0e-2281e2c3c684",
   "metadata": {},
   "source": [
    "# Tanimoto Benzerliği"
   ]
  },
  {
   "cell_type": "markdown",
   "id": "8457ef07-94b8-4491-b9b5-eee224fd0ae5",
   "metadata": {},
   "source": [
    "### Tanimoto (Jaccard) Benzerliği\n",
    "\n",
    "Tanimoto benzerliği, Jaccard benzerliğini taban alarak oluşturulmuştur. iki kümenin ne kadar çok elemanı paylaştığını ölçen bir benzerlik metriğidir. İki kümenin kesişimini, birleşimine bölerek benzerlik oranını hesaplar. Formülü aşağıdaki gibidir:"
   ]
  },
  {
   "cell_type": "markdown",
   "id": "2485c2e3-f1b9-4f8c-b08b-404f0fbc8216",
   "metadata": {},
   "source": [
    "<img src='https://iq.opengenus.org/content/images/2020/09/jaccard.png' width='400' height='400'> "
   ]
  },
  {
   "cell_type": "markdown",
   "id": "86a13f11-775e-448b-921d-f0b924881f51",
   "metadata": {},
   "source": [
    "Burada:\n",
    "- `A ∩ B` kümelerin kesişimi,\n",
    "- `A ∪ B` kümelerin birleşimi."
   ]
  },
  {
   "cell_type": "markdown",
   "id": "20e73575-13b2-4975-995c-2f886843b2f5",
   "metadata": {},
   "source": [
    "Tanimoto (Jaccard) benzerliği, ikili veya binarize edilmiş verilerin kullanıldığı bilgisayar bilimi, ekoloji, genomik, kimya gibi alanlarda yaygın olarak kullanılır. 0 ile 1 arasında değer alabilir."
   ]
  },
  {
   "cell_type": "markdown",
   "id": "3e2bc4be-4f27-44df-94b9-62360932a489",
   "metadata": {},
   "source": [
    "### Matris Benzerliği\n",
    "\n",
    "Matris benzerliği, genellikle piksel değerlerini kullanarak iki görsel arasındaki farkı matrisler yardımıyla ölçer. Piksel değerleri arasındaki farkı veya benzerliği hesaplamak için farklı metrikler kullanabilir. Örneğin, L1 veya L2 normları veya mutlak fark gibi metrikler kullanılabilir."
   ]
  },
  {
   "cell_type": "markdown",
   "id": "305056af-da47-4b34-98c1-d2e61a729c9e",
   "metadata": {},
   "source": [
    "### Tanimoto ile Matris Benzerliği Arasındaki Farklar\n",
    "\n",
    "Bu iki benzerlik algoritması farklı yaklaşımlar kullanıldığından ötürü sonuçlarda farklılaşıyor:\n",
    "\n",
    "- Tanimoto benzerliği, görüntüleri siyah beyaz matrislere dönüştürüp piksel değerlerini kullanarak benzerlik hesaplar. Bu yaklaşım, renk tonlarından ziyade yalnızca varlık veya yokluğu dikkate alır. Bundan dolayı da benzerlik oranı yüksek çıkma eğilimindedir.\n",
    "- Matris benzerliği ise renkli piksel değerlerini kullanarak daha detaylı bir farklılık ve benzerlik değeri elde etmeye çalışır. Bu yaklaşım renk farklarını da içerir.\n",
    "\n",
    "Sonuçlar arasındaki bu farklılık, iki yöntemin de farklı özellikleri nedeniyle oluşabilir. Bir yöntemin diğerine üstün olduğunu söylemek için, hangi benzerlik metriğinin spesifik senaryoda daha uygun olduğunu anlamak önemlidir. Örneğin, Tanimoto (Jaccard) benzerliği ikili veya ikili hale getirilmiş verilerde kullanılırken matris benzerliği daha genel durumlarda kullanılabilir."
   ]
  },
  {
   "cell_type": "markdown",
   "id": "0f8f7f6d-f3c5-4682-b173-bb24fa73be47",
   "metadata": {},
   "source": [
    "## Tanimoto Benzerliği"
   ]
  },
  {
   "cell_type": "code",
   "execution_count": 1,
   "id": "50b11d88-77a8-47a1-9f99-061fe2195509",
   "metadata": {},
   "outputs": [
    {
     "name": "stdout",
     "output_type": "stream",
     "text": [
      "Benzerlik orani: 0.995361906808377\n"
     ]
    }
   ],
   "source": [
    "import numpy as np\n",
    "from PIL import Image\n",
    "\n",
    "def jaccard_similarity(matrix1, matrix2):\n",
    "    intersection = np.logical_and(matrix1, matrix2)\n",
    "    union = np.logical_or(matrix1, matrix2)\n",
    "    return intersection.sum() / union.sum()\n",
    "\n",
    "def png_to_matrix(file_path):\n",
    "    img = Image.open(file_path).convert('L')\n",
    "    img_arr = np.array(img)\n",
    "    return img_arr\n",
    "\n",
    "file1 = 'gorsel1.png'\n",
    "file2 = 'gorsel2.png'\n",
    "\n",
    "\n",
    "matrix1 = png_to_matrix(file1)\n",
    "matrix2 = png_to_matrix(file2)\n",
    "\n",
    "similarity = jaccard_similarity(matrix1, matrix2)\n",
    "\n",
    "print(f'Benzerlik orani: {similarity}')"
   ]
  },
  {
   "cell_type": "markdown",
   "id": "0189e343-a21e-42cc-9f67-af152f9e723b",
   "metadata": {},
   "source": [
    "## Matris Benzerliği"
   ]
  },
  {
   "cell_type": "code",
   "execution_count": 2,
   "id": "a108edf6-6b4e-48fe-834d-850fa7d22a18",
   "metadata": {},
   "outputs": [
    {
     "name": "stdout",
     "output_type": "stream",
     "text": [
      "Iki gorsel arasindaki farklilik orani :32.44940104341378\n",
      "Iki gorsel arasindaki benzerlik orani :67.55059895658621\n",
      "Iki gorsel arasindaki farkliliklar, farkMatris.png dosyasi olarak kayit edildi\n"
     ]
    }
   ],
   "source": [
    "import cv2\n",
    "import numpy as np\n",
    "\n",
    "def matris_benzerligi(gorsel_1, gorsel_2):\n",
    "    yukseklik = gorsel_1.shape[0]\n",
    "    genislik = gorsel_1.shape[1]\n",
    "\n",
    "    fark = cv2.absdiff(gorsel_1,gorsel_2)\n",
    "\n",
    "    farklilik_oran = np.mean(fark) * 100 / 255\n",
    "    print('Iki gorsel arasindaki farklilik orani :' + str(farklilik_oran))\n",
    "\n",
    "    benzerlik_oran = 100 - farklilik_oran\n",
    "    print('Iki gorsel arasindaki benzerlik orani :' + str(benzerlik_oran))\n",
    "\n",
    "    farkMatris = np.zeros(shape=(yukseklik, genislik, 3), dtype=np.uint8)\n",
    "    mask = fark <= 0\n",
    "    farkMatris[mask] = 255\n",
    "    farkMatris[~mask] = gorsel_2[~mask]\n",
    "\n",
    "    cv2.imwrite('farkMatris.png',farkMatris)\n",
    "    print('Iki gorsel arasindaki farkliliklar, farkMatris.png dosyasi olarak kayit edildi')\n",
    "\n",
    "if __name__ == '__main__':\n",
    "    gorsel_1 = cv2.imread('gorsel1.png')\n",
    "    gorsel_2 = cv2.imread('gorsel2.png')\n",
    "    matris_benzerligi(gorsel_1, gorsel_2)"
   ]
  }
 ],
 "metadata": {
  "kernelspec": {
   "display_name": "Python 3 (ipykernel)",
   "language": "python",
   "name": "python3"
  },
  "language_info": {
   "codemirror_mode": {
    "name": "ipython",
    "version": 3
   },
   "file_extension": ".py",
   "mimetype": "text/x-python",
   "name": "python",
   "nbconvert_exporter": "python",
   "pygments_lexer": "ipython3",
   "version": "3.9.16"
  }
 },
 "nbformat": 4,
 "nbformat_minor": 5
}
