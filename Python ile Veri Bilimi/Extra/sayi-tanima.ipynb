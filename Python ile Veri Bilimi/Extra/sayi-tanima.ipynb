{
 "cells": [
  {
   "cell_type": "markdown",
   "id": "15ce813e-2e55-478c-9b9b-e7425ec0e4bd",
   "metadata": {},
   "source": [
    "# Sayı Tanıma\n",
    "Bu notebookta mnist veri seti üzerinden bir sınıflandırma problemi çözeceğiz. Veri seti $0-9$ arasındaki sayıların el ile yazılmasından oluşur. Her sayı $28x28$ boyutunda pikselden oluşur. Veri setinde toplamda $70.000$ görüntüden oluşur, bu çalışma için $42.000$ tanesi eğitim için kalan $28.000$ tanesi de test için ayrılmıştır."
   ]
  },
  {
   "cell_type": "code",
   "execution_count": 1,
   "id": "86554a59-c1c2-4d66-b5da-dc943eeb5473",
   "metadata": {},
   "outputs": [],
   "source": [
    "# gerekli kütüphaneler\n",
    "import numpy as np  # sayısal işlemler \n",
    "import pandas as pd  # veri manipülasyonu \n",
    "import seaborn as sns  # görselleştirme\n",
    "import matplotlib.pyplot as plt  # görselleştirme\n",
    "\n",
    "# görsel çıktılardaki uyarı mesajları için\n",
    "import warnings \n",
    "warnings.filterwarnings('ignore')"
   ]
  },
  {
   "cell_type": "code",
   "execution_count": 144,
   "id": "fad7200b-43cf-4ae5-bb55-67df05e89511",
   "metadata": {},
   "outputs": [],
   "source": [
    "veri = pd.read_csv('train.csv')"
   ]
  },
  {
   "cell_type": "code",
   "execution_count": 3,
   "id": "58f4fec4-8c64-4ed5-b6a1-cf02b4cdfae1",
   "metadata": {},
   "outputs": [
    {
     "data": {
      "text/html": [
       "<div>\n",
       "<style scoped>\n",
       "    .dataframe tbody tr th:only-of-type {\n",
       "        vertical-align: middle;\n",
       "    }\n",
       "\n",
       "    .dataframe tbody tr th {\n",
       "        vertical-align: top;\n",
       "    }\n",
       "\n",
       "    .dataframe thead th {\n",
       "        text-align: right;\n",
       "    }\n",
       "</style>\n",
       "<table border=\"1\" class=\"dataframe\">\n",
       "  <thead>\n",
       "    <tr style=\"text-align: right;\">\n",
       "      <th></th>\n",
       "      <th>label</th>\n",
       "      <th>pixel0</th>\n",
       "      <th>pixel1</th>\n",
       "      <th>pixel2</th>\n",
       "      <th>pixel3</th>\n",
       "      <th>pixel4</th>\n",
       "      <th>pixel5</th>\n",
       "      <th>pixel6</th>\n",
       "      <th>pixel7</th>\n",
       "      <th>pixel8</th>\n",
       "      <th>...</th>\n",
       "      <th>pixel774</th>\n",
       "      <th>pixel775</th>\n",
       "      <th>pixel776</th>\n",
       "      <th>pixel777</th>\n",
       "      <th>pixel778</th>\n",
       "      <th>pixel779</th>\n",
       "      <th>pixel780</th>\n",
       "      <th>pixel781</th>\n",
       "      <th>pixel782</th>\n",
       "      <th>pixel783</th>\n",
       "    </tr>\n",
       "  </thead>\n",
       "  <tbody>\n",
       "    <tr>\n",
       "      <th>0</th>\n",
       "      <td>1</td>\n",
       "      <td>0</td>\n",
       "      <td>0</td>\n",
       "      <td>0</td>\n",
       "      <td>0</td>\n",
       "      <td>0</td>\n",
       "      <td>0</td>\n",
       "      <td>0</td>\n",
       "      <td>0</td>\n",
       "      <td>0</td>\n",
       "      <td>...</td>\n",
       "      <td>0</td>\n",
       "      <td>0</td>\n",
       "      <td>0</td>\n",
       "      <td>0</td>\n",
       "      <td>0</td>\n",
       "      <td>0</td>\n",
       "      <td>0</td>\n",
       "      <td>0</td>\n",
       "      <td>0</td>\n",
       "      <td>0</td>\n",
       "    </tr>\n",
       "    <tr>\n",
       "      <th>1</th>\n",
       "      <td>0</td>\n",
       "      <td>0</td>\n",
       "      <td>0</td>\n",
       "      <td>0</td>\n",
       "      <td>0</td>\n",
       "      <td>0</td>\n",
       "      <td>0</td>\n",
       "      <td>0</td>\n",
       "      <td>0</td>\n",
       "      <td>0</td>\n",
       "      <td>...</td>\n",
       "      <td>0</td>\n",
       "      <td>0</td>\n",
       "      <td>0</td>\n",
       "      <td>0</td>\n",
       "      <td>0</td>\n",
       "      <td>0</td>\n",
       "      <td>0</td>\n",
       "      <td>0</td>\n",
       "      <td>0</td>\n",
       "      <td>0</td>\n",
       "    </tr>\n",
       "    <tr>\n",
       "      <th>2</th>\n",
       "      <td>1</td>\n",
       "      <td>0</td>\n",
       "      <td>0</td>\n",
       "      <td>0</td>\n",
       "      <td>0</td>\n",
       "      <td>0</td>\n",
       "      <td>0</td>\n",
       "      <td>0</td>\n",
       "      <td>0</td>\n",
       "      <td>0</td>\n",
       "      <td>...</td>\n",
       "      <td>0</td>\n",
       "      <td>0</td>\n",
       "      <td>0</td>\n",
       "      <td>0</td>\n",
       "      <td>0</td>\n",
       "      <td>0</td>\n",
       "      <td>0</td>\n",
       "      <td>0</td>\n",
       "      <td>0</td>\n",
       "      <td>0</td>\n",
       "    </tr>\n",
       "    <tr>\n",
       "      <th>3</th>\n",
       "      <td>4</td>\n",
       "      <td>0</td>\n",
       "      <td>0</td>\n",
       "      <td>0</td>\n",
       "      <td>0</td>\n",
       "      <td>0</td>\n",
       "      <td>0</td>\n",
       "      <td>0</td>\n",
       "      <td>0</td>\n",
       "      <td>0</td>\n",
       "      <td>...</td>\n",
       "      <td>0</td>\n",
       "      <td>0</td>\n",
       "      <td>0</td>\n",
       "      <td>0</td>\n",
       "      <td>0</td>\n",
       "      <td>0</td>\n",
       "      <td>0</td>\n",
       "      <td>0</td>\n",
       "      <td>0</td>\n",
       "      <td>0</td>\n",
       "    </tr>\n",
       "    <tr>\n",
       "      <th>4</th>\n",
       "      <td>0</td>\n",
       "      <td>0</td>\n",
       "      <td>0</td>\n",
       "      <td>0</td>\n",
       "      <td>0</td>\n",
       "      <td>0</td>\n",
       "      <td>0</td>\n",
       "      <td>0</td>\n",
       "      <td>0</td>\n",
       "      <td>0</td>\n",
       "      <td>...</td>\n",
       "      <td>0</td>\n",
       "      <td>0</td>\n",
       "      <td>0</td>\n",
       "      <td>0</td>\n",
       "      <td>0</td>\n",
       "      <td>0</td>\n",
       "      <td>0</td>\n",
       "      <td>0</td>\n",
       "      <td>0</td>\n",
       "      <td>0</td>\n",
       "    </tr>\n",
       "  </tbody>\n",
       "</table>\n",
       "<p>5 rows × 785 columns</p>\n",
       "</div>"
      ],
      "text/plain": [
       "   label  pixel0  pixel1  pixel2  pixel3  pixel4  pixel5  pixel6  pixel7  \\\n",
       "0      1       0       0       0       0       0       0       0       0   \n",
       "1      0       0       0       0       0       0       0       0       0   \n",
       "2      1       0       0       0       0       0       0       0       0   \n",
       "3      4       0       0       0       0       0       0       0       0   \n",
       "4      0       0       0       0       0       0       0       0       0   \n",
       "\n",
       "   pixel8  ...  pixel774  pixel775  pixel776  pixel777  pixel778  pixel779  \\\n",
       "0       0  ...         0         0         0         0         0         0   \n",
       "1       0  ...         0         0         0         0         0         0   \n",
       "2       0  ...         0         0         0         0         0         0   \n",
       "3       0  ...         0         0         0         0         0         0   \n",
       "4       0  ...         0         0         0         0         0         0   \n",
       "\n",
       "   pixel780  pixel781  pixel782  pixel783  \n",
       "0         0         0         0         0  \n",
       "1         0         0         0         0  \n",
       "2         0         0         0         0  \n",
       "3         0         0         0         0  \n",
       "4         0         0         0         0  \n",
       "\n",
       "[5 rows x 785 columns]"
      ]
     },
     "execution_count": 3,
     "metadata": {},
     "output_type": "execute_result"
    }
   ],
   "source": [
    "veri.head()"
   ]
  },
  {
   "cell_type": "code",
   "execution_count": 15,
   "id": "f310f1c2-5b48-4fe1-92f4-0388527427d1",
   "metadata": {},
   "outputs": [
    {
     "data": {
      "text/plain": [
       "array([1, 0, 4, 7, 3, 5, 8, 9, 2, 6], dtype=int64)"
      ]
     },
     "execution_count": 15,
     "metadata": {},
     "output_type": "execute_result"
    }
   ],
   "source": [
    "veri['label'].unique()"
   ]
  },
  {
   "cell_type": "code",
   "execution_count": 5,
   "id": "c26418ee-7a90-463b-bb1d-4d2fc99e728f",
   "metadata": {},
   "outputs": [
    {
     "data": {
      "text/plain": [
       "(42000, 785)"
      ]
     },
     "execution_count": 5,
     "metadata": {},
     "output_type": "execute_result"
    }
   ],
   "source": [
    "veri.shape"
   ]
  },
  {
   "cell_type": "markdown",
   "id": "3d42d238-c99b-4e03-990b-3adf209d8bce",
   "metadata": {},
   "source": [
    "Veri seti $42.000$ satır ve $785$ sütundan oluşmakta. Label sütunu el yazısı rakamın hangisi olduğunu belirtir. pixel0-pixel783'e kadar giden sütunlar ise sırasıyla her bir pikseldeki yoğunluğu belirtir."
   ]
  },
  {
   "cell_type": "code",
   "execution_count": 10,
   "id": "f47570d6-f33f-488e-ab37-24c8791c9a01",
   "metadata": {},
   "outputs": [
    {
     "data": {
      "text/plain": [
       "label       int64\n",
       "pixel0      int64\n",
       "pixel1      int64\n",
       "pixel2      int64\n",
       "pixel3      int64\n",
       "            ...  \n",
       "pixel779    int64\n",
       "pixel780    int64\n",
       "pixel781    int64\n",
       "pixel782    int64\n",
       "pixel783    int64\n",
       "Length: 785, dtype: object"
      ]
     },
     "execution_count": 10,
     "metadata": {},
     "output_type": "execute_result"
    }
   ],
   "source": [
    "veri.dtypes"
   ]
  },
  {
   "cell_type": "markdown",
   "id": "37eeece6-15a6-4e5f-a309-1a0d9ed8e007",
   "metadata": {},
   "source": [
    "Veri setindeki tüm değerler sayısaldır (int64)."
   ]
  },
  {
   "cell_type": "markdown",
   "id": "cc53803a-78a3-43b3-b7b4-f7d46fc228e7",
   "metadata": {},
   "source": [
    "### Veri setindeki rakamların dağılımı \n",
    "\n",
    "Dağılıma baktığımız zaman veri setinin oldukça dengeli olduğu söylenebilir."
   ]
  },
  {
   "cell_type": "code",
   "execution_count": 43,
   "id": "c75c253d-cc1e-44e2-8aac-01a42ebdd1e0",
   "metadata": {},
   "outputs": [
    {
     "data": {
      "image/png": "[encoded data removed]",
      "text/plain": [
       "<Figure size 600x400 with 1 Axes>"
      ]
     },
     "metadata": {},
     "output_type": "display_data"
    }
   ],
   "source": [
    "plt.style.use('seaborn')\n",
    "plt.figure(figsize=(6,4)) \n",
    "veri['label'].value_counts().plot(kind='bar', color = '#967bb6')\n",
    "plt.xticks(rotation=0)\n",
    "plt.show()"
   ]
  },
  {
   "cell_type": "markdown",
   "id": "f71fe4a1-ac3c-44a3-8c0f-7bc46e0a72eb",
   "metadata": {},
   "source": [
    "### Veri setindeki sayılara görsel olarak bakalım"
   ]
  },
  {
   "cell_type": "code",
   "execution_count": 45,
   "id": "2b2673e8-dc33-4584-ae30-1039f4ebc71e",
   "metadata": {},
   "outputs": [
    {
     "data": {
      "image/png": "[encoded data removed]",
      "text/plain": [
       "<Figure size 200x200 with 1 Axes>"
      ]
     },
     "metadata": {},
     "output_type": "display_data"
    }
   ],
   "source": [
    "plt.style.use('default')\n",
    "def print_image(index):\n",
    "    some_digit = veri.iloc[index,1:].values\n",
    "    some_digit_img = some_digit.reshape(28,28)\n",
    "    plt.figure(figsize=(2,2))\n",
    "    plt.imshow(some_digit_img, cmap = 'gray')\n",
    "    \n",
    "print_image(300)"
   ]
  },
  {
   "cell_type": "code",
   "execution_count": 145,
   "id": "9b91e588-268f-40f8-8ac3-358486aad3f2",
   "metadata": {},
   "outputs": [],
   "source": [
    "X, y = veri.drop(['label'], axis = 1).values, veri['label']"
   ]
  },
  {
   "cell_type": "code",
   "execution_count": 79,
   "id": "9c2b5556-4c0e-404d-b41e-aca958719dc9",
   "metadata": {},
   "outputs": [
    {
     "data": {
      "text/plain": [
       "(42000, 784)"
      ]
     },
     "execution_count": 79,
     "metadata": {},
     "output_type": "execute_result"
    }
   ],
   "source": [
    "X.shape"
   ]
  },
  {
   "cell_type": "code",
   "execution_count": 146,
   "id": "9a6f5fa0-da34-40d2-a8f7-3c519acc4f99",
   "metadata": {},
   "outputs": [],
   "source": [
    "num_train = 38000\n",
    "X_train, X_test, y_train, y_test = X[:num_train], X[num_train:], y[:num_train], y[num_train:]"
   ]
  },
  {
   "cell_type": "code",
   "execution_count": 147,
   "id": "33e15fcf-c53b-46ef-9681-f9691cafeb1f",
   "metadata": {},
   "outputs": [
    {
     "name": "stdout",
     "output_type": "stream",
     "text": [
      "Shape of X_train: (38000, 784)\n",
      "Shape of y_train: (38000,)\n",
      "Shape of X_test: (4000, 784)\n",
      "Shape of y_test: (4000,)\n"
     ]
    }
   ],
   "source": [
    "print('Shape of X_train:', X_train.shape)\n",
    "print('Shape of y_train:', y_train.shape)\n",
    "print('Shape of X_test:', X_test.shape)\n",
    "print('Shape of y_test:', y_test.shape)"
   ]
  },
  {
   "cell_type": "code",
   "execution_count": null,
   "id": "c69e0de5-1279-4405-bcc4-9d105b639b53",
   "metadata": {
    "collapsed": true,
    "jupyter": {
     "outputs_hidden": true
    },
    "tags": []
   },
   "outputs": [
    {
     "data": {
      "text/html": [
       "<style>#sk-container-id-1 {color: black;background-color: white;}#sk-container-id-1 pre{padding: 0;}#sk-container-id-1 div.sk-toggleable {background-color: white;}#sk-container-id-1 label.sk-toggleable__label {cursor: pointer;display: block;width: 100%;margin-bottom: 0;padding: 0.3em;box-sizing: border-box;text-align: center;}#sk-container-id-1 label.sk-toggleable__label-arrow:before {content: \"▸\";float: left;margin-right: 0.25em;color: #696969;}#sk-container-id-1 label.sk-toggleable__label-arrow:hover:before {color: black;}#sk-container-id-1 div.sk-estimator:hover label.sk-toggleable__label-arrow:before {color: black;}#sk-container-id-1 div.sk-toggleable__content {max-height: 0;max-width: 0;overflow: hidden;text-align: left;background-color: #f0f8ff;}#sk-container-id-1 div.sk-toggleable__content pre {margin: 0.2em;color: black;border-radius: 0.25em;background-color: #f0f8ff;}#sk-container-id-1 input.sk-toggleable__control:checked~div.sk-toggleable__content {max-height: 200px;max-width: 100%;overflow: auto;}#sk-container-id-1 input.sk-toggleable__control:checked~label.sk-toggleable__label-arrow:before {content: \"▾\";}#sk-container-id-1 div.sk-estimator input.sk-toggleable__control:checked~label.sk-toggleable__label {background-color: #d4ebff;}#sk-container-id-1 div.sk-label input.sk-toggleable__control:checked~label.sk-toggleable__label {background-color: #d4ebff;}#sk-container-id-1 input.sk-hidden--visually {border: 0;clip: rect(1px 1px 1px 1px);clip: rect(1px, 1px, 1px, 1px);height: 1px;margin: -1px;overflow: hidden;padding: 0;position: absolute;width: 1px;}#sk-container-id-1 div.sk-estimator {font-family: monospace;background-color: #f0f8ff;border: 1px dotted black;border-radius: 0.25em;box-sizing: border-box;margin-bottom: 0.5em;}#sk-container-id-1 div.sk-estimator:hover {background-color: #d4ebff;}#sk-container-id-1 div.sk-parallel-item::after {content: \"\";width: 100%;border-bottom: 1px solid gray;flex-grow: 1;}#sk-container-id-1 div.sk-label:hover label.sk-toggleable__label {background-color: #d4ebff;}#sk-container-id-1 div.sk-serial::before {content: \"\";position: absolute;border-left: 1px solid gray;box-sizing: border-box;top: 0;bottom: 0;left: 50%;z-index: 0;}#sk-container-id-1 div.sk-serial {display: flex;flex-direction: column;align-items: center;background-color: white;padding-right: 0.2em;padding-left: 0.2em;position: relative;}#sk-container-id-1 div.sk-item {position: relative;z-index: 1;}#sk-container-id-1 div.sk-parallel {display: flex;align-items: stretch;justify-content: center;background-color: white;position: relative;}#sk-container-id-1 div.sk-item::before, #sk-container-id-1 div.sk-parallel-item::before {content: \"\";position: absolute;border-left: 1px solid gray;box-sizing: border-box;top: 0;bottom: 0;left: 50%;z-index: -1;}#sk-container-id-1 div.sk-parallel-item {display: flex;flex-direction: column;z-index: 1;position: relative;background-color: white;}#sk-container-id-1 div.sk-parallel-item:first-child::after {align-self: flex-end;width: 50%;}#sk-container-id-1 div.sk-parallel-item:last-child::after {align-self: flex-start;width: 50%;}#sk-container-id-1 div.sk-parallel-item:only-child::after {width: 0;}#sk-container-id-1 div.sk-dashed-wrapped {border: 1px dashed gray;margin: 0 0.4em 0.5em 0.4em;box-sizing: border-box;padding-bottom: 0.4em;background-color: white;}#sk-container-id-1 div.sk-label label {font-family: monospace;font-weight: bold;display: inline-block;line-height: 1.2em;}#sk-container-id-1 div.sk-label-container {text-align: center;}#sk-container-id-1 div.sk-container {/* jupyter's `normalize.less` sets `[hidden] { display: none; }` but bootstrap.min.css set `[hidden] { display: none !important; }` so we also need the `!important` here to be able to override the default hidden behavior on the sphinx rendered scikit-learn.org. See: https://github.com/scikit-learn/scikit-learn/issues/21755 */display: inline-block !important;position: relative;}#sk-container-id-1 div.sk-text-repr-fallback {display: none;}</style><div id=\"sk-container-id-1\" class=\"sk-top-container\"><div class=\"sk-text-repr-fallback\"><pre>KNeighborsClassifier()</pre><b>In a Jupyter environment, please rerun this cell to show the HTML representation or trust the notebook. <br />On GitHub, the HTML representation is unable to render, please try loading this page with nbviewer.org.</b></div><div class=\"sk-container\" hidden><div class=\"sk-item\"><div class=\"sk-estimator sk-toggleable\"><input class=\"sk-toggleable__control sk-hidden--visually\" id=\"sk-estimator-id-1\" type=\"checkbox\" checked><label for=\"sk-estimator-id-1\" class=\"sk-toggleable__label sk-toggleable__label-arrow\">KNeighborsClassifier</label><div class=\"sk-toggleable__content\"><pre>KNeighborsClassifier()</pre></div></div></div></div></div>"
      ],
      "text/plain": [
       "KNeighborsClassifier()"
      ]
     },
     "execution_count": 47,
     "metadata": {},
     "output_type": "execute_result"
    }
   ],
   "source": [
    "from sklearn.neighbors import KNeighborsClassifier\n",
    "knn = KNeighborsClassifier()\n",
    "knn.fit(X_train, y_train)"
   ]
  },
  {
   "cell_type": "code",
   "execution_count": null,
   "id": "91510d9b-0e3e-448b-9c1d-2f1b85d63d47",
   "metadata": {},
   "outputs": [
    {
     "data": {
      "text/plain": [
       "(4000, 784)"
      ]
     },
     "execution_count": 48,
     "metadata": {},
     "output_type": "execute_result"
    }
   ],
   "source": [
    "X_test.shape"
   ]
  },
  {
   "cell_type": "code",
   "execution_count": null,
   "id": "42e95bc6-3f70-4074-bf98-e5ba56fbae95",
   "metadata": {},
   "outputs": [
    {
     "name": "stdout",
     "output_type": "stream",
     "text": [
      "[5 7 5 ... 7 6 9]\n"
     ]
    }
   ],
   "source": [
    "tahmin = knn.predict(X_test)\n",
    "print(tahmin)"
   ]
  },
  {
   "cell_type": "code",
   "execution_count": null,
   "id": "8a6b8096-d4fd-46ec-9610-fa6a58f57d7d",
   "metadata": {},
   "outputs": [
    {
     "data": {
      "text/plain": [
       "0.969"
      ]
     },
     "execution_count": 51,
     "metadata": {},
     "output_type": "execute_result"
    }
   ],
   "source": [
    "from sklearn.metrics import accuracy_score\n",
    "accuracy_score(y_test, tahmin)"
   ]
  },
  {
   "cell_type": "code",
   "execution_count": 50,
   "id": "a92bb11c-aac7-43ad-9de0-e593bce43bcc",
   "metadata": {},
   "outputs": [
    {
     "data": {
      "text/plain": [
       "array([[428,   0,   0,   0,   0,   1,   1,   0,   0,   0],\n",
       "       [  0, 442,   0,   0,   0,   0,   0,   0,   0,   0],\n",
       "       [  3,   3, 353,   1,   0,   0,   0,  11,   0,   1],\n",
       "       [  1,   0,   2, 411,   0,   4,   0,   1,   1,   1],\n",
       "       [  0,   3,   0,   0, 409,   0,   2,   0,   1,   7],\n",
       "       [  1,   1,   0,   3,   0, 320,   4,   0,   2,   3],\n",
       "       [  0,   0,   0,   0,   1,   1, 398,   0,   0,   0],\n",
       "       [  0,   3,   2,   0,   1,   0,   0, 390,   0,   5],\n",
       "       [  2,  16,   1,   5,   2,   5,   0,   1, 343,   4],\n",
       "       [  1,   1,   2,   1,   4,   2,   0,   5,   1, 382]], dtype=int64)"
      ]
     },
     "execution_count": 50,
     "metadata": {},
     "output_type": "execute_result"
    }
   ],
   "source": [
    "from sklearn.metrics import confusion_matrix\n",
    "confusion_matrix(y_test, tahmin)"
   ]
  },
  {
   "cell_type": "code",
   "execution_count": null,
   "id": "2c9b7590-ba88-4e0b-a23f-f1504e244186",
   "metadata": {},
   "outputs": [],
   "source": []
  },
  {
   "cell_type": "markdown",
   "id": "9f3c42a9-4d24-42eb-b887-e17990128081",
   "metadata": {},
   "source": [
    "## K Neighbors Classifier"
   ]
  },
  {
   "cell_type": "code",
   "execution_count": 64,
   "id": "33663125-1bac-4da2-bc6f-13114fa05745",
   "metadata": {},
   "outputs": [
    {
     "name": "stdout",
     "output_type": "stream",
     "text": [
      "[[427   0   0   0   0   1   2   0   0   0]\n",
      " [  0 440   0   0   0   0   1   1   0   0]\n",
      " [  4   1 353   1   1   0   0  10   1   1]\n",
      " [  1   0   3 405   0   7   0   1   3   1]\n",
      " [  0   1   0   0 414   0   2   1   0   4]\n",
      " [  0   1   0   2   0 328   1   0   0   2]\n",
      " [  2   0   0   0   1   2 395   0   0   0]\n",
      " [  0   2   3   1   2   0   0 390   0   3]\n",
      " [  1  13   1   3   2   5   2   1 346   5]\n",
      " [  3   0   1   0   8   2   0   5   0 380]] \n",
      "--------------------------\n",
      " KNN Accuracy Score:  0.9695\n"
     ]
    }
   ],
   "source": [
    "from sklearn.neighbors import KNeighborsClassifier\n",
    "knn = KNeighborsClassifier(n_neighbors=1, metric='minkowski')\n",
    "knn.fit(X_train,y_train)\n",
    "y_pred_knn = knn.predict(X_test)\n",
    "cm_knn = confusion_matrix(y_test,y_pred_knn)\n",
    "knn_accuracy = accuracy_score(y_test, y_pred_knn)\n",
    "print(cm_knn, '\\n--------------------------\\n', 'KNN Accuracy Score: ', knn_accuracy)"
   ]
  },
  {
   "cell_type": "markdown",
   "id": "bc6a3aa4-315b-40f2-80ad-a26e5ceafbfb",
   "metadata": {},
   "source": [
    "## Logistic Regression"
   ]
  },
  {
   "cell_type": "code",
   "execution_count": 65,
   "id": "8bb29837-0f0b-4e1b-8f4d-956316180bb7",
   "metadata": {},
   "outputs": [
    {
     "name": "stdout",
     "output_type": "stream",
     "text": [
      "[[416   0   2   1   1   1   4   1   4   0]\n",
      " [  0 429   1   2   1   1   1   0   4   3]\n",
      " [  4   3 328   7   1   1   5   4  17   2]\n",
      " [  1   0  10 386   0  10   3   3   5   3]\n",
      " [  3   2   6   1 388   2   4   1   6   9]\n",
      " [  6   3   6  11   5 278   3   1  16   5]\n",
      " [  3   0   1   0   1   1 393   0   1   0]\n",
      " [  1   0   8   1   5   1   0 375   0  10]\n",
      " [  3  13   7  10   2  10   4   0 327   3]\n",
      " [  2   0   3   7  12   5   0  17   4 349]] \n",
      "--------------------------\n",
      " Logistic Regression Accuracy Score:  0.91725\n"
     ]
    }
   ],
   "source": [
    "from sklearn.linear_model import LogisticRegression\n",
    "logr = LogisticRegression(random_state=0)\n",
    "logr.fit(X_train,y_train)\n",
    "y_pred_logr = logr.predict(X_test)\n",
    "cm_logr = confusion_matrix(y_test,y_pred_logr)\n",
    "logr_accuracy = accuracy_score(y_test, y_pred_logr)\n",
    "print(cm_logr, '\\n--------------------------\\n', 'Logistic Regression Accuracy Score: ', logr_accuracy)"
   ]
  },
  {
   "cell_type": "markdown",
   "id": "7aed3146-caee-4fb8-819c-67bfb619f2cb",
   "metadata": {},
   "source": [
    "## Support Vector Machine"
   ]
  },
  {
   "cell_type": "code",
   "execution_count": 66,
   "id": "9c7e7739-825a-4b67-b438-a90603e328f7",
   "metadata": {},
   "outputs": [
    {
     "name": "stdout",
     "output_type": "stream",
     "text": [
      "[[424   0   0   0   0   0   3   1   2   0]\n",
      " [  0 437   0   0   1   1   0   0   2   1]\n",
      " [  1   0 365   1   0   0   0   2   2   1]\n",
      " [  1   0   4 409   0   3   0   1   1   2]\n",
      " [  0   1   1   0 409   0   3   0   2   6]\n",
      " [  1   1   0   4   1 319   2   0   4   2]\n",
      " [  1   0   0   0   1   0 398   0   0   0]\n",
      " [  0   0   4   0   1   1   0 393   1   1]\n",
      " [  1   4   2   4   1   1   2   0 364   0]\n",
      " [  1   0   1   2   6   0   0   5   2 382]] \n",
      "--------------------------\n",
      " Support Vector Classifier Accuracy Score:  0.975\n"
     ]
    }
   ],
   "source": [
    "from sklearn.svm import SVC\n",
    "svc = SVC(kernel='rbf')\n",
    "svc.fit(X_train,y_train)\n",
    "y_pred_svc = svc.predict(X_test)\n",
    "cm_svc = confusion_matrix(y_test,y_pred_svc)\n",
    "svc_accuracy = accuracy_score(y_test, y_pred_svc)\n",
    "print(cm_svc, '\\n--------------------------\\n', 'Support Vector Classifier Accuracy Score: ', svc_accuracy)"
   ]
  },
  {
   "cell_type": "markdown",
   "id": "aed8750c-9da4-454e-ba79-40803486b783",
   "metadata": {},
   "source": [
    "## Naive Bayes"
   ]
  },
  {
   "cell_type": "code",
   "execution_count": 177,
   "id": "c3b0401d-56a5-4872-a75d-0c2f62c0519c",
   "metadata": {},
   "outputs": [
    {
     "name": "stdout",
     "output_type": "stream",
     "text": [
      "[[368   1   2   2   0   0  28   0  21   8]\n",
      " [  0 418   1   3   0   2   4   0  10   4]\n",
      " [ 29  12  83  40   1   1 102   2  99   3]\n",
      " [  9  26   4 165   0   0  27   4 153  33]\n",
      " [  5   3   3   4  57   3  52   3  92 200]\n",
      " [ 19  11   1  10   0  15  30   0 220  28]\n",
      " [  1   4   1   0   0   0 387   0   7   0]\n",
      " [  1   2   0   4   3   0   2 150  15 224]\n",
      " [  4  69   2   5   0   1  10   1 226  61]\n",
      " [  2   7   0   2   4   1   1   4   7 371]] \n",
      "--------------------------\n",
      " Naive Bayes Accuracy Score:  0.56\n"
     ]
    }
   ],
   "source": [
    "from sklearn.naive_bayes import GaussianNB\n",
    "gnb = GaussianNB()\n",
    "gnb.fit(X_train, y_train)\n",
    "y_pred_gnb = gnb.predict(X_test)\n",
    "cm_gnb = confusion_matrix(y_test,y_pred_gnb)\n",
    "gnb_accuracy = accuracy_score(y_test, y_pred_gnb)\n",
    "print(cm_gnb, '\\n--------------------------\\n', 'Naive Bayes Accuracy Score: ', gnb_accuracy)"
   ]
  },
  {
   "cell_type": "markdown",
   "id": "4eeae2e4-f858-44a2-bfd8-1f314b28fb18",
   "metadata": {},
   "source": [
    "## Decision Tree"
   ]
  },
  {
   "cell_type": "code",
   "execution_count": 69,
   "id": "4e436949-4b15-4ad0-9d55-5b37ea5d88be",
   "metadata": {},
   "outputs": [
    {
     "name": "stdout",
     "output_type": "stream",
     "text": [
      "[[393   0   8   4   2   8   9   1   5   0]\n",
      " [  1 420   2   1   1   4   0   3   7   3]\n",
      " [  6   4 315   7   4  10   1  11  10   4]\n",
      " [  3   2  11 356   4  14   7   8  13   3]\n",
      " [  0   1   5   1 359   7  11   6  13  19]\n",
      " [  9   1   4  10   2 267  13   2  14  12]\n",
      " [  1   4  14   1   6   6 359   2   6   1]\n",
      " [  1   2   6   1   4   2   1 373   3   8]\n",
      " [  1  11  11   8   3   5   6   1 318  15]\n",
      " [  2   1   5   6  13  12   3  10  16 331]] \n",
      "--------------------------\n",
      " Decision Tree Accuracy Score:  0.87275\n"
     ]
    }
   ],
   "source": [
    "from sklearn.tree import DecisionTreeClassifier\n",
    "dtc = DecisionTreeClassifier(criterion = 'entropy')\n",
    "dtc.fit(X_train,y_train)\n",
    "y_pred_dtc = dtc.predict(X_test)\n",
    "cm_dtc = confusion_matrix(y_test,y_pred_dtc)\n",
    "dtc_accuracy = accuracy_score(y_test, y_pred_dtc)\n",
    "print(cm_dtc, '\\n--------------------------\\n', 'Decision Tree Accuracy Score: ', dtc_accuracy)"
   ]
  },
  {
   "cell_type": "markdown",
   "id": "179a0f42-8490-4e4e-999b-db3ec6709bd4",
   "metadata": {},
   "source": [
    "## Random Forest"
   ]
  },
  {
   "cell_type": "code",
   "execution_count": 88,
   "id": "2e017219-100d-4bbd-b89e-82010ed61a83",
   "metadata": {},
   "outputs": [
    {
     "name": "stdout",
     "output_type": "stream",
     "text": [
      "[[421   0   0   0   1   1   3   0   4   0]\n",
      " [  0 437   0   1   0   2   0   1   1   0]\n",
      " [  5   0 353   2   0   1   1   1   7   2]\n",
      " [  0   0   5 403   0   2   1   2   5   3]\n",
      " [  0   1   0   0 411   0   2   0   1   7]\n",
      " [  2   0   0   3   1 318   3   0   5   2]\n",
      " [  1   0   0   0   3   1 395   0   0   0]\n",
      " [  0   0   4   0   2   0   0 385   2   8]\n",
      " [  0   8   1   2   0   0   2   1 361   4]\n",
      " [  3   1   3   6   3   0   1   5   2 375]] \n",
      "--------------------------\n",
      " Random Forest Accuracy Score:  0.96475\n"
     ]
    }
   ],
   "source": [
    "from sklearn.ensemble import RandomForestClassifier\n",
    "rfc = RandomForestClassifier()\n",
    "rfc.fit(X_train,y_train)\n",
    "y_pred_rfc = rfc.predict(X_test)\n",
    "cm_rfc = confusion_matrix(y_test,y_pred_rfc)\n",
    "rfc_accuracy = accuracy_score(y_test, y_pred_rfc)\n",
    "print(cm_rfc, '\\n--------------------------\\n', 'Random Forest Accuracy Score: ', rfc_accuracy)"
   ]
  },
  {
   "cell_type": "markdown",
   "id": "bc139ca7-8248-4903-ac56-5dcb340b0058",
   "metadata": {},
   "source": [
    "## XGBoost"
   ]
  },
  {
   "cell_type": "code",
   "execution_count": 72,
   "id": "6ba8a220-59fd-402b-8a6c-d505175ea58f",
   "metadata": {},
   "outputs": [
    {
     "name": "stdout",
     "output_type": "stream",
     "text": [
      "[[424   0   0   1   1   0   2   0   2   0]\n",
      " [  1 436   0   2   0   0   1   0   2   0]\n",
      " [  2   0 359   4   0   0   1   1   3   2]\n",
      " [  1   1   2 410   0   1   0   1   2   3]\n",
      " [  1   1   0   0 411   0   1   0   1   7]\n",
      " [  1   1   1   2   1 319   1   0   6   2]\n",
      " [  1   0   0   0   2   1 396   0   0   0]\n",
      " [  0   0   5   0   0   0   0 392   1   3]\n",
      " [  0   5   1   3   0   0   2   1 366   1]\n",
      " [  0   0   1   2   5   0   0   3   3 385]] \n",
      "--------------------------\n",
      " XGB Accuracy Score:  0.9745\n"
     ]
    }
   ],
   "source": [
    "import xgboost as xgb\n",
    "xgb = xgb.XGBClassifier(objective='multiclass:softmax', num_class=3)\n",
    "xgb.fit(X_train,y_train)\n",
    "y_pred_xgb = xgb.predict(X_test)\n",
    "cm_xgb = confusion_matrix(y_test,y_pred_xgb)\n",
    "xgb_accuracy = accuracy_score(y_test, y_pred_xgb)\n",
    "print(cm_xgb, '\\n--------------------------\\n', 'XGB Accuracy Score: ', xgb_accuracy)"
   ]
  },
  {
   "cell_type": "markdown",
   "id": "6215dae0-e79a-4ca9-b4a6-1eacfacbd8a9",
   "metadata": {},
   "source": [
    "## Neural Network"
   ]
  },
  {
   "cell_type": "code",
   "execution_count": 171,
   "id": "0a0a5d31-b572-4b88-8827-132f65abb1e3",
   "metadata": {},
   "outputs": [],
   "source": [
    "from keras.utils import to_categorical\n",
    "from keras.models import Sequential\n",
    "from keras.layers import Dense, BatchNormalization\n",
    "from keras.optimizers import Adam\n",
    "from keras.callbacks import EarlyStopping\n",
    "\n",
    "y_train = to_categorical(y_train)\n",
    "\n",
    "model = Sequential()\n",
    "model.add(Dense(10, activation='relu', input_shape=(X_train.shape[1],)))\n",
    "model.add(BatchNormalization())\n",
    "model.add(Dense(10, activation='relu'))\n",
    "model.add(BatchNormalization())\n",
    "model.add(Dense(10, activation='relu'))\n",
    "model.add(BatchNormalization())\n",
    "model.add(Dense(10, activation='softmax'))\n",
    "\n",
    "optimizer = Adam(lr=0.001)\n",
    "model.compile(loss='categorical_crossentropy', optimizer=optimizer, metrics=['accuracy'])\n",
    "\n",
    "early_stopping = EarlyStopping(monitor='val_loss', patience=10)\n",
    "\n",
    "history = model.fit(X_train, y_train, epochs=300, validation_split=0.2, verbose=0, callbacks=[early_stopping])"
   ]
  },
  {
   "cell_type": "code",
   "execution_count": 172,
   "id": "6b4cb4c5-147b-49a8-a0e1-b178ab8532c4",
   "metadata": {},
   "outputs": [
    {
     "name": "stdout",
     "output_type": "stream",
     "text": [
      "125/125 [==============================] - 0s 729us/step - loss: 0.2477 - accuracy: 0.9308\n"
     ]
    },
    {
     "data": {
      "text/plain": [
       "[0.24765749275684357, 0.9307500123977661]"
      ]
     },
     "execution_count": 172,
     "metadata": {},
     "output_type": "execute_result"
    }
   ],
   "source": [
    "y_test = to_categorical(y_test)\n",
    "model.evaluate(X_test, y_test)"
   ]
  },
  {
   "cell_type": "code",
   "execution_count": 173,
   "id": "b208ddfd-13cf-4cd7-a899-8dd990f7257b",
   "metadata": {},
   "outputs": [
    {
     "data": {
      "image/png": "[encoded data removed]",
      "text/plain": [
       "<Figure size 600x400 with 1 Axes>"
      ]
     },
     "metadata": {},
     "output_type": "display_data"
    }
   ],
   "source": [
    "plt.style.use('seaborn')\n",
    "plt.figure(figsize=(6, 4))\n",
    "plt.plot(history.history['accuracy'], color = '#967bb6')\n",
    "plt.title('Model Accuracy')\n",
    "plt.ylabel('Accuracy')\n",
    "plt.xlabel('Epoch')\n",
    "plt.legend(['Train'], loc='upper left')\n",
    "plt.show()"
   ]
  },
  {
   "cell_type": "code",
   "execution_count": 197,
   "id": "2cc9653f-3df4-4ad0-b613-51b414939e05",
   "metadata": {},
   "outputs": [],
   "source": [
    "test = pd.read_csv('test.csv')"
   ]
  },
  {
   "cell_type": "code",
   "execution_count": 202,
   "id": "af50587f-82cb-4e84-99c7-bcb3e65f4217",
   "metadata": {},
   "outputs": [
    {
     "data": {
      "image/png": "[encoded data removed]",
      "text/plain": [
       "<Figure size 200x200 with 1 Axes>"
      ]
     },
     "metadata": {},
     "output_type": "display_data"
    }
   ],
   "source": [
    "def print_testimage(index):\n",
    "    some_digit = test.iloc[index].values\n",
    "    some_digit_img = some_digit.reshape(28,28)\n",
    "    plt.figure(figsize=(2,2))\n",
    "    plt.imshow(some_digit_img,'binary')\n",
    "    \n",
    "print_testimage(480)"
   ]
  },
  {
   "cell_type": "code",
   "execution_count": 208,
   "id": "138df5fd-81eb-4579-a606-82d0211047f5",
   "metadata": {},
   "outputs": [
    {
     "data": {
      "image/png": "[encoded data removed]",
      "text/plain": [
       "<Figure size 200x200 with 1 Axes>"
      ]
     },
     "metadata": {},
     "output_type": "display_data"
    }
   ],
   "source": [
    "print_testimage(200)"
   ]
  },
  {
   "cell_type": "code",
   "execution_count": 206,
   "id": "2cf4b1f2-74dd-4c5d-82d7-72d92f615e75",
   "metadata": {},
   "outputs": [
    {
     "data": {
      "text/plain": [
       "array([2, 0, 5, ..., 3, 9, 2], dtype=int64)"
      ]
     },
     "execution_count": 206,
     "metadata": {},
     "output_type": "execute_result"
    }
   ],
   "source": [
    "testdata2 = dtc.predict(test)\n",
    "testdata2"
   ]
  },
  {
   "cell_type": "code",
   "execution_count": 209,
   "id": "a7e56e85-b177-47ed-a9cc-3979f9a9ebac",
   "metadata": {},
   "outputs": [
    {
     "data": {
      "text/plain": [
       "1"
      ]
     },
     "execution_count": 209,
     "metadata": {},
     "output_type": "execute_result"
    }
   ],
   "source": [
    "# DecisionTree\n",
    "testdata2[200]"
   ]
  },
  {
   "cell_type": "code",
   "execution_count": null,
   "id": "2998db67-213b-4f86-bd89-976e2f030b0d",
   "metadata": {},
   "outputs": [],
   "source": []
  },
  {
   "cell_type": "code",
   "execution_count": null,
   "id": "bdf474be-9baa-4ea8-a022-58e97d3ffde4",
   "metadata": {},
   "outputs": [],
   "source": []
  }
 ],
 "metadata": {
  "kernelspec": {
   "display_name": "Python 3 (ipykernel)",
   "language": "python",
   "name": "python3"
  },
  "language_info": {
   "codemirror_mode": {
    "name": "ipython",
    "version": 3
   },
   "file_extension": ".py",
   "mimetype": "text/x-python",
   "name": "python",
   "nbconvert_exporter": "python",
   "pygments_lexer": "ipython3",
   "version": "3.9.16"
  }
 },
 "nbformat": 4,
 "nbformat_minor": 5
}
